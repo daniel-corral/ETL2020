{
 "cells": [
  {
   "cell_type": "markdown",
   "metadata": {},
   "source": [
    "## Práctica: Exámen año pasado\n",
    "### Daniel Corral Ruiz\n",
    "### Máster Data Science para Finanzas CUNEF"
   ]
  },
  {
   "cell_type": "markdown",
   "metadata": {
    "id": "TNKSERTmyvPj"
   },
   "source": [
    "## 1. The World Bank's international debt data\n",
    "<p>No es que los humanos solo tengamos deudas para administrar nuestras necesidades. Un país también puede endeudarse para administrar su economía. Por ejemplo, el gasto en infraestructura es un ingrediente costoso requerido para que los ciudadanos de un país lleven una vida cómoda. El Banco Mundial es la organización que proporciona deuda a los países.</p>\n",
    "\n",
    "<!-- <p>En este notebook, vamos a analizar los datos de la deuda internacional recopilados por el Banco Mundial. El conjunto de datos contiene información sobre el monto de la deuda (en USD) que deben los países en desarrollo en varias categorías.</p>  -->\n",
    "    "
   ]
  },
  {
   "cell_type": "markdown",
   "metadata": {
    "id": "5vb7dXl5yvPx"
   },
   "source": [
    "#### 1. Inicializar y cargar el contexto spark"
   ]
  },
  {
   "cell_type": "code",
   "execution_count": null,
   "metadata": {
    "id": "KDfGLJiKzFe5"
   },
   "outputs": [],
   "source": [
    "!apt-get install openjdk-8-jdk-headless -qq > /dev/null\n",
    "!wget -q https://www-us.apache.org/dist/spark/spark-2.4.7/spark-2.4.7-bin-hadoop2.7.tgz\n",
    "!tar xf spark-2.4.7-bin-hadoop2.7.tgz #d\n",
    "!pip install -q findspark \n",
    "\n",
    "import os\n",
    "os.environ[\"JAVA_HOME\"] = \"/usr/lib/jvm/java-8-openjdk-amd64\"\n",
    "os.environ[\"SPARK_HOME\"] = \"/content/spark-2.4.7-bin-hadoop2.7\"\n",
    "\n",
    "import findspark\n",
    "findspark.init()\n",
    "from pyspark import SparkContext\n",
    "sc = SparkContext()\n",
    "from pyspark.sql import SparkSession\n",
    "spark = SparkSession.builder.master(\"local[*]\").getOrCreate()"
   ]
  },
  {
   "cell_type": "markdown",
   "metadata": {
    "id": "z5-mu7lSyvPx"
   },
   "source": [
    "##### 2. Número de países distintos en cada dataset. Coinciden?"
   ]
  },
  {
   "cell_type": "markdown",
   "metadata": {
    "id": "30BQ_93Zdfi8"
   },
   "source": [
    "Comenzamos subiendo ambos archivos a nuestro colab, mediante el símbolo de la carpeta. Para ello hemos eliminado el nombre de las variables para poder estudiar los números de países distintos que encontramos en ambos datasets."
   ]
  },
  {
   "cell_type": "code",
   "execution_count": null,
   "metadata": {
    "colab": {
     "base_uri": "https://localhost:8080/"
    },
    "id": "71BtDC6qzYQ9",
    "outputId": "a1301a58-fc1b-4ab6-8cb8-b609b7e13870"
   },
   "outputs": [
    {
     "data": {
      "text/plain": [
       "[['Albania',\n",
       "  'ALB',\n",
       "  '2014 [YR2014]',\n",
       "  '1023040800000',\n",
       "  '73.3202469198429',\n",
       "  '12.259'],\n",
       " ['Albania',\n",
       "  'ALB',\n",
       "  '2015 [YR2015]',\n",
       "  '1145500940000',\n",
       "  '79.8644448747259',\n",
       "  '12.197'],\n",
       " ['Albania',\n",
       "  'ALB',\n",
       "  '2016 [YR2016]',\n",
       "  '1188814490000',\n",
       "  '80.7355748396923',\n",
       "  '12.08'],\n",
       " ['Australia',\n",
       "  'AUS',\n",
       "  '2014 [YR2014]',\n",
       "  '674700000',\n",
       "  '0.042207528166503',\n",
       "  '13.2'],\n",
       " ['Australia',\n",
       "  'AUS',\n",
       "  '2015 [YR2015]',\n",
       "  '762718000',\n",
       "  '0.0469480198522591',\n",
       "  '12.9'],\n",
       " ['Australia',\n",
       "  'AUS',\n",
       "  '2016 [YR2016]',\n",
       "  '907555000',\n",
       "  '0.054648482520169',\n",
       "  '12.9'],\n",
       " ['\"Bahamas',\n",
       "  ' The\"',\n",
       "  'BHS',\n",
       "  '2014 [YR2014]',\n",
       "  '5158420000',\n",
       "  '47.2672793747079',\n",
       "  '14.34'],\n",
       " ['\"Bahamas',\n",
       "  ' The\"',\n",
       "  'BHS',\n",
       "  '2015 [YR2015]',\n",
       "  '5655150000',\n",
       "  '48.1195170307089',\n",
       "  '14.224'],\n",
       " ['\"Bahamas',\n",
       "  ' The\"',\n",
       "  'BHS',\n",
       "  '2016 [YR2016]',\n",
       "  '6138814000',\n",
       "  '51.4207431481606',\n",
       "  '14.131'],\n",
       " ['Barbados',\n",
       "  'BRB',\n",
       "  '2014 [YR2014]',\n",
       "  '12175704025',\n",
       "  '129.629591844133',\n",
       "  '10.916']]"
      ]
     },
     "execution_count": 2,
     "metadata": {
      "tags": []
     },
     "output_type": "execute_result"
    }
   ],
   "source": [
    "desarrollo = \"indicadores_desarrollo.csv\" # subimos el archivo\n",
    "desarrollo = sc.textFile(desarrollo) \n",
    "primera_fila = desarrollo.take(1)[0] \n",
    "desarrollo = desarrollo.filter(lambda x: x != primera_fila) #Nos quedamos con todo lo que no sea la primera fila\n",
    "desarrollofinal = desarrollo.map(lambda x: x.split(\",\")) # separamos por comas\n",
    "desarrollofinal.take(10)"
   ]
  },
  {
   "cell_type": "markdown",
   "metadata": {
    "id": "D0ZbxdyZfr1S"
   },
   "source": [
    "Observamos un total de 51 países diferentes."
   ]
  },
  {
   "cell_type": "code",
   "execution_count": null,
   "metadata": {
    "colab": {
     "base_uri": "https://localhost:8080/"
    },
    "id": "kwceWFB42n7B",
    "outputId": "a7316bbe-adfc-4d83-b1ce-6064277ea63b"
   },
   "outputs": [
    {
     "data": {
      "text/plain": [
       "51"
      ]
     },
     "execution_count": 3,
     "metadata": {
      "tags": []
     },
     "output_type": "execute_result"
    }
   ],
   "source": [
    "desarrollopaises = desarrollofinal.map(lambda x: (x[0]))\n",
    "desarrollopaises.distinct().count()"
   ]
  },
  {
   "cell_type": "markdown",
   "metadata": {
    "id": "3OxxHi5NfvpG"
   },
   "source": [
    "Realizamos el mismo procedimiento con el dataset de los indicadores_deuda."
   ]
  },
  {
   "cell_type": "code",
   "execution_count": null,
   "metadata": {
    "colab": {
     "base_uri": "https://localhost:8080/"
    },
    "id": "sHxzpNnf07gq",
    "outputId": "70c1ef12-04e4-4c32-be45-7eb90b14bf2c"
   },
   "outputs": [
    {
     "data": {
      "text/plain": [
       "[['Afghanistan',\n",
       "  'AFG',\n",
       "  '61739336.9',\n",
       "  '100847181.9',\n",
       "  '',\n",
       "  '39107845',\n",
       "  '100847181.9',\n",
       "  '',\n",
       "  '',\n",
       "  '',\n",
       "  '',\n",
       "  '49114729.4',\n",
       "  '72894453.7',\n",
       "  '23779724.3',\n",
       "  '72894453.7',\n",
       "  '',\n",
       "  '',\n",
       "  '',\n",
       "  '39903620.1',\n",
       "  '53239440.1',\n",
       "  '',\n",
       "  '13335820',\n",
       "  '53239440.1',\n",
       "  '',\n",
       "  '',\n",
       "  '',\n",
       "  ''],\n",
       " ['Albania',\n",
       "  'ALB',\n",
       "  '54250280.6',\n",
       "  '790248675.2',\n",
       "  '514185620',\n",
       "  '182197616.7',\n",
       "  '236447897.3',\n",
       "  '0',\n",
       "  '39445139.5',\n",
       "  '170018.4',\n",
       "  '39615157.9',\n",
       "  '76050616.1',\n",
       "  '317194512.5',\n",
       "  '234321242.3',\n",
       "  '310371858.4',\n",
       "  '4542664.9',\n",
       "  '2279989.2',\n",
       "  '6822654.1',\n",
       "  '13847333.6',\n",
       "  '165602386.9',\n",
       "  '87884000',\n",
       "  '28101536.1',\n",
       "  '41948869.7',\n",
       "  '31030688.2',\n",
       "  '4618504.3',\n",
       "  '120324.7',\n",
       "  '35769517.2'],\n",
       " ['Algeria',\n",
       "  'DZA',\n",
       "  '95188724.6',\n",
       "  '171185188.1',\n",
       "  '75420000',\n",
       "  '0',\n",
       "  '95188724.6',\n",
       "  '',\n",
       "  '576463.5',\n",
       "  '0',\n",
       "  '576463.5',\n",
       "  '10320772.2',\n",
       "  '10320772.2',\n",
       "  '',\n",
       "  '10320772.2',\n",
       "  '',\n",
       "  '',\n",
       "  '',\n",
       "  '7680627.6',\n",
       "  '19031728.7',\n",
       "  '3220000',\n",
       "  '8094779',\n",
       "  '15775406.6',\n",
       "  '',\n",
       "  '13192.3',\n",
       "  '23129.8',\n",
       "  '36322.1']]"
      ]
     },
     "execution_count": 4,
     "metadata": {
      "tags": []
     },
     "output_type": "execute_result"
    }
   ],
   "source": [
    "deuda = \"indicadores_deuda.csv\"\n",
    "deuda = sc.textFile(deuda)\n",
    "primera_fila = deuda.take(1)[0]\n",
    "deuda = deuda.filter(lambda x: x != primera_fila) #Nos quedamos con todo lo que no sea la primera fila\n",
    "deudafinal = deuda.map(lambda x: x.split(\",\"))\n",
    "deudafinal.take(3)"
   ]
  },
  {
   "cell_type": "markdown",
   "metadata": {
    "id": "bsRlIcSS9kmv"
   },
   "source": [
    "Observamos un total de 123 países distintos."
   ]
  },
  {
   "cell_type": "code",
   "execution_count": null,
   "metadata": {
    "colab": {
     "base_uri": "https://localhost:8080/"
    },
    "id": "IC3DBijN4I3j",
    "outputId": "f3ae3279-058a-41f1-e7a9-62a28fbd33a1"
   },
   "outputs": [
    {
     "data": {
      "text/plain": [
       "123"
      ]
     },
     "execution_count": 5,
     "metadata": {
      "tags": []
     },
     "output_type": "execute_result"
    }
   ],
   "source": [
    "deudapaises = deudafinal.map(lambda x: (x[0]))\n",
    "deudapaises.distinct().count()"
   ]
  },
  {
   "cell_type": "markdown",
   "metadata": {
    "id": "BRZB2TQPf564"
   },
   "source": [
    "Respondiendo a la pregunta inicial, respondemos que no existen el mismo número de países."
   ]
  },
  {
   "cell_type": "markdown",
   "metadata": {
    "id": "hrk9Mz6gyvPx"
   },
   "source": [
    "##### 3. Total de deuda contraida por cada pais: total amount of debt (in USD) DT.AMT.MLAT.CD"
   ]
  },
  {
   "cell_type": "markdown",
   "metadata": {
    "id": "MHLTc-NOgAJf"
   },
   "source": [
    "Escogemos ambas columnas para su estudio, el nombre del país y la variable a estudiar."
   ]
  },
  {
   "cell_type": "code",
   "execution_count": null,
   "metadata": {
    "colab": {
     "base_uri": "https://localhost:8080/"
    },
    "id": "pcrsMD_L9DXI",
    "outputId": "68a08da9-03b1-4d96-94ce-098f41ebecee"
   },
   "outputs": [
    {
     "data": {
      "text/plain": [
       "[('Afghanistan', '39107845'),\n",
       " ('Albania', '182197616.7'),\n",
       " ('Algeria', '0'),\n",
       " ('Angola', '124688691.9'),\n",
       " ('Armenia', '94331207.1'),\n",
       " ('Azerbaijan', '513623656.5'),\n",
       " ('Bangladesh', '1039564682.7'),\n",
       " ('Belarus', '595438826'),\n",
       " ('Belize', '29683326.5'),\n",
       " ('Benin', '91631639.5'),\n",
       " ('Bhutan', '17390420.5'),\n",
       " ('Bolivia', '357721211.5'),\n",
       " ('Bosnia and Herzegovina', '290170946.5'),\n",
       " ('Botswana', '125652344.5'),\n",
       " ('Brazil', '2514318741.6'),\n",
       " ('Bulgaria', '228993019.8'),\n",
       " ('Burkina Faso', '119510893'),\n",
       " ('Burundi', '16115111.8'),\n",
       " ('Cabo Verde', '39970124.9'),\n",
       " ('Cambodia', '72307001.8'),\n",
       " ('Cameroon', '152095968.1'),\n",
       " ('Central African Republic', '2241813.8'),\n",
       " ('Chad', '95738709.5'),\n",
       " ('China', '2615723714.1'),\n",
       " ('Colombia', '1100907553.6'),\n",
       " ('Comoros', '2182053.1'),\n",
       " ('\"Congo', ''),\n",
       " ('\"Congo', ''),\n",
       " ('Costa Rica', '272808260.7'),\n",
       " (\"Cote d'Ivoire\", '84629406.5'),\n",
       " ('Djibouti', '34254909.2'),\n",
       " ('Dominica', '11130355.8'),\n",
       " ('Dominican Republic', '254728306.1'),\n",
       " ('Ecuador', '578894793.9'),\n",
       " ('\"Egypt', '94662397.3'),\n",
       " ('El Salvador', '298939687.1'),\n",
       " ('Eritrea', '15482475.4'),\n",
       " ('Eswatini', '18130218.8'),\n",
       " ('Ethiopia', '171590722.7'),\n",
       " ('Fiji', '9082442.6'),\n",
       " ('Gabon', '62404132.3'),\n",
       " ('\"Gambia', ''),\n",
       " ('Georgia', '144062401.5'),\n",
       " ('Ghana', '130202003.1'),\n",
       " ('Grenada', '13740888.8'),\n",
       " ('Guatemala', '339822253.6'),\n",
       " ('Guinea', '29819676.8'),\n",
       " ('Guinea-Bissau', '6713257.2'),\n",
       " ('Guyana', '34651806.5'),\n",
       " ('Haiti', '10087968.8'),\n",
       " ('Honduras', '148225048.7'),\n",
       " ('IDA only', '4884095623.3'),\n",
       " ('India', '4545609909.9'),\n",
       " ('Indonesia', '2469145824.7'),\n",
       " ('\"Iran', ''),\n",
       " ('Jamaica', '174427648'),\n",
       " ('Jordan', '270498715.5'),\n",
       " ('Kazakhstan', '1079948889.7'),\n",
       " ('Kenya', '391340889.9'),\n",
       " ('Kosovo', '33590154.6'),\n",
       " ('Kyrgyz Republic', '75278037.2'),\n",
       " ('Lao PDR', '80684114.6'),\n",
       " ('Least developed countries: UN classification', '4084275524.2'),\n",
       " ('Lebanon', '167638089.7'),\n",
       " ('Lesotho', '32459403.7'),\n",
       " ('Liberia', '7383619.4'),\n",
       " ('\"Macedonia', '571657452.1'),\n",
       " ('Madagascar', '60669367.3'),\n",
       " ('Malawi', '35659831.4'),\n",
       " ('Maldives', '17896143.5'),\n",
       " ('Mali', '135472245.9'),\n",
       " ('Mauritania', '184408220.2'),\n",
       " ('Mauritius', '74568335.5'),\n",
       " ('Mexico', '864181883.5'),\n",
       " ('Moldova', '135842865.5'),\n",
       " ('Mongolia', '75937145.9'),\n",
       " ('Montenegro', '77948064.8'),\n",
       " ('Morocco', '1381649282.3'),\n",
       " ('Mozambique', '91225626.1'),\n",
       " ('Myanmar', '30569845.2'),\n",
       " ('Nepal', '163747512.9'),\n",
       " ('Nicaragua', '181115898'),\n",
       " ('Niger', '115132364.5'),\n",
       " ('Nigeria', '297246686.6'),\n",
       " ('Pakistan', '1578651453.9'),\n",
       " ('Papua New Guinea', '78345326'),\n",
       " ('Paraguay', '207662030.9'),\n",
       " ('Peru', '553634090'),\n",
       " ('Philippines', '739056427.3'),\n",
       " ('Romania', '1798305095.8'),\n",
       " ('Russian Federation', '141669500'),\n",
       " ('Rwanda', '31090382.5'),\n",
       " ('Samoa', '9987486.6'),\n",
       " ('Sao Tome and Principe', '2418947.6'),\n",
       " ('Senegal', '170437929.1'),\n",
       " ('Serbia', '715223963.7'),\n",
       " ('Sierra Leone', '24144262.8'),\n",
       " ('Solomon Islands', '3952828.9'),\n",
       " ('Somalia', '24683262.9'),\n",
       " ('South Africa', '346393763.9')]"
      ]
     },
     "execution_count": 6,
     "metadata": {
      "tags": []
     },
     "output_type": "execute_result"
    }
   ],
   "source": [
    "deuda_pais = deudafinal.map(lambda x: (x[0], x[5]))\n",
    "deuda_pais.take(100)"
   ]
  },
  {
   "cell_type": "markdown",
   "metadata": {
    "id": "Co1WZXzwyvPy"
   },
   "source": [
    "##### 4. Media de los indicadores de deuda (tabla uno): DT.AMT.BLAT.CD, DT.DIS.BLAT.CD, DT.INT.BLAT.CD"
   ]
  },
  {
   "cell_type": "markdown",
   "metadata": {
    "id": "YTSyBHnmgHIJ"
   },
   "source": [
    "Seleccionamos las variables a estudiar y realizamos la media para variable."
   ]
  },
  {
   "cell_type": "code",
   "execution_count": null,
   "metadata": {
    "id": "II1yuZOP_EXB"
   },
   "outputs": [],
   "source": [
    "indicador1 = deudafinal.map(lambda x: ( x[2]))\n",
    "indicador2 = deudafinal.map(lambda x: ( x[11]))\n",
    "indicador3 = deudafinal.map(lambda x: ( x[18]))"
   ]
  },
  {
   "cell_type": "markdown",
   "metadata": {
    "id": "NrKm5553BFOS"
   },
   "source": [
    "Media de DT.AMT.BLAT.CD"
   ]
  },
  {
   "cell_type": "code",
   "execution_count": null,
   "metadata": {
    "colab": {
     "base_uri": "https://localhost:8080/"
    },
    "id": "zxJrUwT8A1wR",
    "outputId": "2e8a70d2-e233-491c-b0a0-72078139f5f5"
   },
   "outputs": [
    {
     "data": {
      "text/plain": [
       "61416650.11111111"
      ]
     },
     "execution_count": 8,
     "metadata": {
      "tags": []
     },
     "output_type": "execute_result"
    }
   ],
   "source": [
    "indicador1=indicador1.filter(lambda x_int: x_int.isdigit())\n",
    "indicador1=indicador1.map(lambda x: int(x))\n",
    "indicador1.mean()"
   ]
  },
  {
   "cell_type": "markdown",
   "metadata": {
    "id": "vVmhXeBFBjpO"
   },
   "source": [
    "Media  DT.DIS.BLAT.CD"
   ]
  },
  {
   "cell_type": "code",
   "execution_count": null,
   "metadata": {
    "colab": {
     "base_uri": "https://localhost:8080/"
    },
    "id": "P3gtXSvpA2_i",
    "outputId": "5be14b46-9e87-4559-ae7f-66512431f536"
   },
   "outputs": [
    {
     "data": {
      "text/plain": [
       "506624979.33333343"
      ]
     },
     "execution_count": 9,
     "metadata": {
      "tags": []
     },
     "output_type": "execute_result"
    }
   ],
   "source": [
    "indicador2=indicador2.filter(lambda x_int: x_int.isdigit())\n",
    "indicador2=indicador2.map(lambda x: int(x))\n",
    "indicador2.mean()"
   ]
  },
  {
   "cell_type": "markdown",
   "metadata": {
    "id": "mP2xrGjxBarw"
   },
   "source": [
    "Media DT.INT.BLAT.CD"
   ]
  },
  {
   "cell_type": "code",
   "execution_count": null,
   "metadata": {
    "colab": {
     "base_uri": "https://localhost:8080/"
    },
    "id": "pa8B0O0OA8D4",
    "outputId": "097d4743-9fe7-42b2-faa3-3b026de74c69"
   },
   "outputs": [
    {
     "data": {
      "text/plain": [
       "53762351.333333336"
      ]
     },
     "execution_count": 10,
     "metadata": {
      "tags": []
     },
     "output_type": "execute_result"
    }
   ],
   "source": [
    "indicador3=indicador3.filter(lambda x_int: x_int.isdigit())\n",
    "indicador3=indicador3.map(lambda x: int(x))\n",
    "indicador3.mean()"
   ]
  },
  {
   "cell_type": "markdown",
   "metadata": {
    "id": "L-yHAfpwyvPy"
   },
   "source": [
    "##### 5. Los 20 paises con DT.AMT.DLXF.CD más alto"
   ]
  },
  {
   "cell_type": "markdown",
   "metadata": {
    "id": "STXQkWaVgSAA"
   },
   "source": [
    "Elegimos las variables a escoger, el nombre del país y DT.AMT.DLXF.CD, y mediante la funcion top escogemos los 20 países con DT.AMT.DLXF.CD más alto."
   ]
  },
  {
   "cell_type": "code",
   "execution_count": null,
   "metadata": {
    "colab": {
     "base_uri": "https://localhost:8080/"
    },
    "id": "FGAOj39gGTsL",
    "outputId": "2a942b51-72c9-4b37-846e-0111a3d4dd6c"
   },
   "outputs": [
    {
     "data": {
      "text/plain": [
       "[(96218620835.7, 'China'),\n",
       " (90041840304.1, 'Brazil'),\n",
       " (66589761833.5, 'Russian Federation'),\n",
       " (51555031005.8, 'Turkey'),\n",
       " (48756295898.2, 'South Asia'),\n",
       " (31923507000.8, 'India'),\n",
       " (30916112653.8, 'Indonesia'),\n",
       " (27482093686.4, 'Kazakhstan'),\n",
       " (25218503927.0, 'Mexico'),\n",
       " (25197029299.4, 'Least developed countries: UN classification'),\n",
       " (20483289208.0, 'IDA only'),\n",
       " (14013783350.4, 'Romania'),\n",
       " (11985674438.7, 'Colombia'),\n",
       " (11067045628.1, 'Angola'),\n",
       " (10404814960.2, 'Cameroon'),\n",
       " (9506919669.6, 'Lebanon'),\n",
       " (9474257551.9, 'South Africa'),\n",
       " (8873505909.2, 'Vietnam'),\n",
       " (8336013891.3, 'Pakistan'),\n",
       " (8148995625.6, 'Ukraine')]"
      ]
     },
     "execution_count": 11,
     "metadata": {
      "tags": []
     },
     "output_type": "execute_result"
    }
   ],
   "source": [
    "top20 = deudafinal.map(lambda x: (float(x[3]),x[0]))\n",
    "top20.top(20)"
   ]
  },
  {
   "cell_type": "markdown",
   "metadata": {
    "id": "s8SFSaPMyvPy"
   },
   "source": [
    "##### 6. Pais con los datos informados todos los años."
   ]
  },
  {
   "cell_type": "markdown",
   "metadata": {
    "id": "DkMH9cq0ge7v"
   },
   "source": [
    "Ponemos un 1 en cada país durante los distintos años que tengamos, en el caso de que un país tenga todos los años el resultado será 4, mientras que si falta algún año sera 3,2,1,0. Realizamos un filtro en el que solo se escoja aquellos en los que el resultado haya sido 4, es decir, que tengan todos los años información. En nuestro caso solo presenta Malawi datos todos los años."
   ]
  },
  {
   "cell_type": "code",
   "execution_count": null,
   "metadata": {
    "colab": {
     "base_uri": "https://localhost:8080/"
    },
    "id": "BKUK6JWzILXB",
    "outputId": "7a23caa9-f508-4cca-e8cd-f509b68258fa"
   },
   "outputs": [
    {
     "data": {
      "text/plain": [
       "[('Malawi', 4)]"
      ]
     },
     "execution_count": 12,
     "metadata": {
      "tags": []
     },
     "output_type": "execute_result"
    }
   ],
   "source": [
    "todos_años = desarrollofinal.map(lambda x: (x[0],1)).reduceByKey(lambda x,y : x+y)\n",
    "todos_años = todos_años.filter(lambda x: x[1] == 4)\n",
    "todos_años.take(10)"
   ]
  },
  {
   "cell_type": "markdown",
   "metadata": {
    "id": "Jy5aqHj4yvPz"
   },
   "source": [
    "##### 7. Media anual de los distintos indicadores de desarrollo"
   ]
  },
  {
   "cell_type": "markdown",
   "metadata": {
    "id": "CnzYDIdLR4Kd"
   },
   "source": [
    "Escogemos primera variable para cada año:"
   ]
  },
  {
   "cell_type": "code",
   "execution_count": null,
   "metadata": {
    "colab": {
     "base_uri": "https://localhost:8080/"
    },
    "id": "-dWIGBnmIMar",
    "outputId": "e5710722-4338-45d3-ce32-3c3a0cf90f75"
   },
   "outputs": [
    {
     "data": {
      "text/plain": [
       "116610529707695.64"
      ]
     },
     "execution_count": 13,
     "metadata": {
      "tags": []
     },
     "output_type": "execute_result"
    }
   ],
   "source": [
    "desarrollo1_2014 = desarrollofinal.filter(lambda x: x[2] == '2014 [YR2014]')\n",
    "desarrollo1_2014 = desarrollo1_2014.map(lambda x: x[3])\n",
    "desarrollo1_2014=desarrollo1_2014.filter(lambda x_int: x_int.isdigit())\n",
    "desarrollo1_2014=desarrollo1_2014.map(lambda x: int(x))\n",
    "desarrollo1_2014.mean()"
   ]
  },
  {
   "cell_type": "code",
   "execution_count": null,
   "metadata": {
    "colab": {
     "base_uri": "https://localhost:8080/"
    },
    "id": "OHEwogACLrzQ",
    "outputId": "e8641fc0-576b-4bcc-a9be-4fc8a44b54e8"
   },
   "outputs": [
    {
     "data": {
      "text/plain": [
       "184827281799554.75"
      ]
     },
     "execution_count": 14,
     "metadata": {
      "tags": []
     },
     "output_type": "execute_result"
    }
   ],
   "source": [
    "desarrollo1_2015 = desarrollofinal.filter(lambda x: x[2] == '2015 [YR2015]')\n",
    "desarrollo1_2015 = desarrollo1_2015.map(lambda x: x[3])\n",
    "desarrollo1_2015=desarrollo1_2015.filter(lambda x_int: x_int.isdigit())\n",
    "desarrollo1_2015=desarrollo1_2015.map(lambda x: int(x))\n",
    "desarrollo1_2015.mean()"
   ]
  },
  {
   "cell_type": "code",
   "execution_count": null,
   "metadata": {
    "colab": {
     "base_uri": "https://localhost:8080/"
    },
    "id": "dmtBDzrAMmD6",
    "outputId": "b5585929-5389-4ca4-f973-c7e60c144382"
   },
   "outputs": [
    {
     "data": {
      "text/plain": [
       "274875240137558.72"
      ]
     },
     "execution_count": 15,
     "metadata": {
      "tags": []
     },
     "output_type": "execute_result"
    }
   ],
   "source": [
    "desarrollo1_2016 = desarrollofinal.filter(lambda x: x[2] == '2016 [YR2016]')\n",
    "desarrollo1_2016 = desarrollo1_2016.map(lambda x: x[3])\n",
    "desarrollo1_2016=desarrollo1_2016.filter(lambda x_int: x_int.isdigit())\n",
    "desarrollo1_2016=desarrollo1_2016.map(lambda x: int(x))\n",
    "desarrollo1_2016.mean()"
   ]
  },
  {
   "cell_type": "code",
   "execution_count": null,
   "metadata": {
    "colab": {
     "base_uri": "https://localhost:8080/"
    },
    "id": "34RZscENMmJU",
    "outputId": "6b5b8c2b-6bb3-4451-829c-a3ba992a5c1b"
   },
   "outputs": [
    {
     "data": {
      "text/plain": [
       "['2239858619962.69']"
      ]
     },
     "execution_count": 16,
     "metadata": {
      "tags": []
     },
     "output_type": "execute_result"
    }
   ],
   "source": [
    "desarrollo1_2017 = desarrollofinal.filter(lambda x: x[2] == '2017 [YR2017]')\n",
    "desarrollo1_2017 = desarrollo1_2017.map(lambda x: x[3])\n",
    "desarrollo1_2017.take(1)"
   ]
  },
  {
   "cell_type": "markdown",
   "metadata": {
    "id": "wwOgP8a-R10q"
   },
   "source": [
    "Escogemos segunda variable:"
   ]
  },
  {
   "cell_type": "code",
   "execution_count": null,
   "metadata": {
    "colab": {
     "base_uri": "https://localhost:8080/"
    },
    "id": "vCeU_gJCNRMc",
    "outputId": "ad28ae68-8549-49f4-dd59-3c68836d5c01"
   },
   "outputs": [
    {
     "data": {
      "text/plain": [
       "58.15214676864467"
      ]
     },
     "execution_count": 17,
     "metadata": {
      "tags": []
     },
     "output_type": "execute_result"
    }
   ],
   "source": [
    "desarrollo2_2014 = desarrollofinal.filter(lambda x: x[2] == '2014 [YR2014]')\n",
    "desarrollo2_2014 = desarrollo2_2014.map(lambda x: x[4])\n",
    "desarrollo2_2014=desarrollo2_2014.map(lambda x: float(x))\n",
    "desarrollo2_2014.mean()"
   ]
  },
  {
   "cell_type": "code",
   "execution_count": null,
   "metadata": {
    "colab": {
     "base_uri": "https://localhost:8080/"
    },
    "id": "eC8NXFU5NRPD",
    "outputId": "7dfec104-0f0e-40cd-bead-33c56756e979"
   },
   "outputs": [
    {
     "data": {
      "text/plain": [
       "59.76292583345264"
      ]
     },
     "execution_count": 18,
     "metadata": {
      "tags": []
     },
     "output_type": "execute_result"
    }
   ],
   "source": [
    "desarrollo2_2015 = desarrollofinal.filter(lambda x: x[2] == '2015 [YR2015]')\n",
    "desarrollo2_2015 = desarrollo2_2015.map(lambda x: x[4])\n",
    "desarrollo2_2015=desarrollo2_2015.map(lambda x: float(x))\n",
    "desarrollo2_2015.mean()"
   ]
  },
  {
   "cell_type": "code",
   "execution_count": null,
   "metadata": {
    "colab": {
     "base_uri": "https://localhost:8080/"
    },
    "id": "9gtwugSfNRSH",
    "outputId": "172806ba-324c-4447-bfc4-276afd8f832f"
   },
   "outputs": [
    {
     "data": {
      "text/plain": [
       "60.44188301621869"
      ]
     },
     "execution_count": 19,
     "metadata": {
      "tags": []
     },
     "output_type": "execute_result"
    }
   ],
   "source": [
    "desarrollo2_2016 = desarrollofinal.filter(lambda x: x[2] == '2016 [YR2016]')\n",
    "desarrollo2_2016 = desarrollo2_2016.map(lambda x: x[4])\n",
    "desarrollo2_2016=desarrollo2_2016.map(lambda x: float(x))\n",
    "desarrollo2_2016.mean()"
   ]
  },
  {
   "cell_type": "code",
   "execution_count": null,
   "metadata": {
    "colab": {
     "base_uri": "https://localhost:8080/"
    },
    "id": "tWIarTKnNR3W",
    "outputId": "e995ccc0-167b-43e1-b883-83b527c3e196"
   },
   "outputs": [
    {
     "data": {
      "text/plain": [
       "['48.659564238322']"
      ]
     },
     "execution_count": 20,
     "metadata": {
      "tags": []
     },
     "output_type": "execute_result"
    }
   ],
   "source": [
    "desarrollo2_2017 = desarrollofinal.filter(lambda x: x[2] == '2017 [YR2017]')\n",
    "desarrollo2_2017 = desarrollo2_2017.map(lambda x: x[4])\n",
    "desarrollo2_2017.take(10)"
   ]
  },
  {
   "cell_type": "markdown",
   "metadata": {
    "id": "8h3f-F3bQ52A"
   },
   "source": [
    "Escogemos ahora la última variable:\n",
    "\n"
   ]
  },
  {
   "cell_type": "code",
   "execution_count": null,
   "metadata": {
    "colab": {
     "base_uri": "https://localhost:8080/"
    },
    "id": "OAH-CeprQwxY",
    "outputId": "524b9747-2176-408f-84c0-475dbacb20b6"
   },
   "outputs": [
    {
     "data": {
      "text/plain": [
       "12.333333333333334"
      ]
     },
     "execution_count": 21,
     "metadata": {
      "tags": []
     },
     "output_type": "execute_result"
    }
   ],
   "source": [
    "desarrollo3_2014 = desarrollofinal.filter(lambda x: x[2] == '2014 [YR2014]')\n",
    "desarrollo3_2014 = desarrollo3_2014.map(lambda x: x[5])\n",
    "desarrollo3_2014=desarrollo3_2014.filter(lambda x_int: x_int.isdigit())\n",
    "desarrollo3_2014=desarrollo3_2014.map(lambda x: int(x))\n",
    "desarrollo3_2014.mean()"
   ]
  },
  {
   "cell_type": "code",
   "execution_count": null,
   "metadata": {
    "colab": {
     "base_uri": "https://localhost:8080/"
    },
    "id": "2f5-Vn6YQw9F",
    "outputId": "eac80d2d-3604-4fe0-db06-1e0af1fa58e6"
   },
   "outputs": [
    {
     "data": {
      "text/plain": [
       "11.333333333333334"
      ]
     },
     "execution_count": 22,
     "metadata": {
      "tags": []
     },
     "output_type": "execute_result"
    }
   ],
   "source": [
    "desarrollo3_2015 = desarrollofinal.filter(lambda x: x[2] == '2015 [YR2015]')\n",
    "desarrollo3_2015 = desarrollo3_2015.map(lambda x: x[5])\n",
    "desarrollo3_2015=desarrollo3_2015.filter(lambda x_int: x_int.isdigit())\n",
    "desarrollo3_2015=desarrollo3_2015.map(lambda x: int(x))\n",
    "desarrollo3_2015.mean()"
   ]
  },
  {
   "cell_type": "code",
   "execution_count": null,
   "metadata": {
    "colab": {
     "base_uri": "https://localhost:8080/"
    },
    "id": "9AVuG-e-QxEO",
    "outputId": "69ead927-7591-4786-e60c-0b6fa5a90be5"
   },
   "outputs": [
    {
     "data": {
      "text/plain": [
       "19.0"
      ]
     },
     "execution_count": 23,
     "metadata": {
      "tags": []
     },
     "output_type": "execute_result"
    }
   ],
   "source": [
    "desarrollo3_2016 = desarrollofinal.filter(lambda x: x[2] == '2016 [YR2016]')\n",
    "desarrollo3_2016 = desarrollo3_2016.map(lambda x: x[5])\n",
    "desarrollo3_2016=desarrollo3_2016.filter(lambda x_int: x_int.isdigit())\n",
    "desarrollo3_2016=desarrollo3_2016.map(lambda x: int(x))\n",
    "desarrollo3_2016.mean()"
   ]
  },
  {
   "cell_type": "code",
   "execution_count": null,
   "metadata": {
    "colab": {
     "base_uri": "https://localhost:8080/"
    },
    "id": "t5EZOR95QxKa",
    "outputId": "f475267a-fcee-46be-bf91-e46436e34c28"
   },
   "outputs": [
    {
     "data": {
      "text/plain": [
       "['34.593']"
      ]
     },
     "execution_count": 24,
     "metadata": {
      "tags": []
     },
     "output_type": "execute_result"
    }
   ],
   "source": [
    "desarrollo3_2017 = desarrollofinal.filter(lambda x: x[2] == '2017 [YR2017]')\n",
    "desarrollo3_2017 = desarrollo3_2017.map(lambda x: x[5])\n",
    "desarrollo3_2017.take(10)"
   ]
  },
  {
   "cell_type": "markdown",
   "metadata": {
    "id": "y5Kt-D0LyvPz"
   },
   "source": [
    "##### 8. Podrías decirme el total de deuda acumulada DT.AMT.MLAT.CD por los 10 países con un valor en media menor de SP.DYN.CBRT.IN"
   ]
  },
  {
   "cell_type": "markdown",
   "metadata": {
    "id": "cuTTYgmxijNw"
   },
   "source": [
    "En primer lugar calculamos la media de SP.DYN.CBRT.IN:"
   ]
  },
  {
   "cell_type": "code",
   "execution_count": null,
   "metadata": {
    "colab": {
     "base_uri": "https://localhost:8080/"
    },
    "id": "3waUHIeEWxzh",
    "outputId": "5afc18e3-c190-46a0-ffcb-1620ecc35f88"
   },
   "outputs": [
    {
     "data": {
      "text/plain": [
       "13.625"
      ]
     },
     "execution_count": 26,
     "metadata": {
      "tags": []
     },
     "output_type": "execute_result"
    }
   ],
   "source": [
    "mediamenor = desarrollofinal.map(lambda x: x[5])\n",
    "mediamenor=mediamenor.filter(lambda x_int: x_int.isdigit())\n",
    "mediamenor=mediamenor.map(lambda x: int(x))\n",
    "mediamenor.mean()"
   ]
  },
  {
   "cell_type": "markdown",
   "metadata": {
    "id": "7YRGbIG-ioMl"
   },
   "source": [
    "Filtramos los paises de menor a mayor para ver los 10 países con el valor más pequeño que la deuda:"
   ]
  },
  {
   "cell_type": "code",
   "execution_count": null,
   "metadata": {
    "colab": {
     "base_uri": "https://localhost:8080/"
    },
    "id": "Oyno_MMeXT_s",
    "outputId": "22f4ea1c-2f1d-447a-e358-05d54b61916e"
   },
   "outputs": [
    {
     "data": {
      "text/plain": [
       "[(7.8, 'Japan'),\n",
       " (7.9, 'San Marino'),\n",
       " (8.8, 'Spain'),\n",
       " (9.4, 'Singapore'),\n",
       " (9.7, 'Hungary'),\n",
       " (10.3, 'Ukraine'),\n",
       " (10.445, 'Moldova'),\n",
       " (10.5, 'Switzerland'),\n",
       " (11.8, 'United Kingdom'),\n",
       " (12.0, 'Palau')]"
      ]
     },
     "execution_count": 27,
     "metadata": {
      "tags": []
     },
     "output_type": "execute_result"
    }
   ],
   "source": [
    "deudamenor = desarrollofinal.filter(lambda x: x[2] == '2016 [YR2016]')\n",
    "natalidad_pais = deudamenor.map(lambda x: (float(x[5]),x[0]))\n",
    "natalidad_pais.takeOrdered(10, key = lambda x: x[0])"
   ]
  },
  {
   "cell_type": "markdown",
   "metadata": {
    "id": "ne4sDqGNizUr"
   },
   "source": [
    "Podemos observar como unicamente dos países tienen el total de deuda acumulada DT.AMT.MLAT.CD, que son Palau y Ukraine."
   ]
  },
  {
   "cell_type": "code",
   "execution_count": null,
   "metadata": {
    "colab": {
     "base_uri": "https://localhost:8080/"
    },
    "id": "GE4Mvil4iZuD",
    "outputId": "88c8c7fa-603e-4c33-a202-8ea45a50259c"
   },
   "outputs": [
    {
     "data": {
      "text/plain": [
       "[]"
      ]
     },
     "execution_count": 37,
     "metadata": {
      "tags": []
     },
     "output_type": "execute_result"
    }
   ],
   "source": [
    "Palau = deudafinal.filter(lambda x: 'Palau' in x[0])\n",
    "natalidad_deuda = Palau.map(lambda x: (float(x[5]), x[0]))\n",
    "natalidad_deuda.take(1)"
   ]
  },
  {
   "cell_type": "code",
   "execution_count": null,
   "metadata": {
    "colab": {
     "base_uri": "https://localhost:8080/"
    },
    "id": "d6wxicP4hh4a",
    "outputId": "482d55d3-1105-4ce5-8b95-36940053af31"
   },
   "outputs": [
    {
     "data": {
      "text/plain": [
       "[(1072472830.3, 'Ukraine')]"
      ]
     },
     "execution_count": 33,
     "metadata": {
      "tags": []
     },
     "output_type": "execute_result"
    }
   ],
   "source": [
    "Ukraine = deudafinal.filter(lambda x: 'Ukraine' in x[0])\n",
    "natalidad_deuda = Ukraine.map(lambda x: (float(x[5]), x[0]))\n",
    "natalidad_deuda.take(1)"
   ]
  },
  {
   "cell_type": "code",
   "execution_count": null,
   "metadata": {
    "colab": {
     "base_uri": "https://localhost:8080/"
    },
    "id": "I2xc5OLvholj",
    "outputId": "83577936-37dc-4e61-c608-69ed22f3f21d"
   },
   "outputs": [
    {
     "data": {
      "text/plain": [
       "[(135842865.5, 'Moldova')]"
      ]
     },
     "execution_count": 34,
     "metadata": {
      "tags": []
     },
     "output_type": "execute_result"
    }
   ],
   "source": [
    "Moldova = deudafinal.filter(lambda x: 'Moldova' in x[0])\n",
    "natalidad_deuda = Moldova.map(lambda x: (float(x[5]), x[0]))\n",
    "natalidad_deuda.take(1)"
   ]
  },
  {
   "cell_type": "markdown",
   "metadata": {
    "id": "_kw0L4cdyvPz"
   },
   "source": [
    "##### 9. ¿Hay alguna relación entre los nacimientos y el indicador DT.AMT.DLXF.CD? ¿Cómo podrías demostrarlo?"
   ]
  }
 ],
 "metadata": {
  "colab": {
   "collapsed_sections": [],
   "name": "examen1920v2.ipynb",
   "provenance": []
  },
  "kernelspec": {
   "display_name": "Python 3",
   "language": "python",
   "name": "python3"
  },
  "language_info": {
   "codemirror_mode": {
    "name": "ipython",
    "version": 3
   },
   "file_extension": ".py",
   "mimetype": "text/x-python",
   "name": "python",
   "nbconvert_exporter": "python",
   "pygments_lexer": "ipython3",
   "version": "3.7.9"
  }
 },
 "nbformat": 4,
 "nbformat_minor": 1
}
