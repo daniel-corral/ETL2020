{
 "cells": [
  {
   "cell_type": "markdown",
   "metadata": {},
   "source": [
    "# DANIEL CORRAL RUIZ"
   ]
  },
  {
   "cell_type": "markdown",
   "metadata": {
    "id": "4RTmKl4KnEHJ"
   },
   "source": [
    "# TAREA FINAL: Datos de vivienda\n",
    "\n",
    "<p> El negocio inmobiliario es uno de los motores de la economía de España, el carácter turístico de nuesta península hace que sean muchos los inversores extranjeros que se decidan por buscar una inversión de bajo riesgos en nuestras ciudades costeras o grandes urbes. \n",
    "Muchas de estas inversiones se hacen sobre grandes bolsas de inmuebles que deben ser analizados previamente para comprobar la rentabilidad del porfolio </p>\n",
    "\n",
    "<!-- <p> En este caso vamos a trabajar con una tabla que contienen información de distintos inmuebles repartidos por una zona específica, sus carácterísticas y su precio </p>  -->"
   ]
  },
  {
   "cell_type": "markdown",
   "metadata": {
    "id": "8z9-mk3EnEHP"
   },
   "source": [
    "Todas las cuestiones se deben realizar sobre el conjunto de casos que representen viviendas ubicadas en zonas residenciales **(alta, media y baja densidad)**"
   ]
  },
  {
   "cell_type": "markdown",
   "metadata": {
    "id": "pObmX-nanEHQ"
   },
   "source": [
    "**MUY IMPORTANTE:** En las otras prácticas he detectado colaboraciones involucrando varias personas y he sido flexible aunque a algunos os lo he mencionado en las correcciones, porque al final el trabajo de analista de datos es un trabajo colaborativo. Sin embargo, este trabajo es individual, así que cuidado con las colaboraciones."
   ]
  },
  {
   "cell_type": "markdown",
   "metadata": {
    "id": "9NAu8w1bnEHQ"
   },
   "source": [
    "Las variables de las que se compone el dataset son:"
   ]
  },
  {
   "cell_type": "markdown",
   "metadata": {
    "id": "aCJTbxsdnEHQ"
   },
   "source": [
    "|NOMBRE VARIABLE|DESCRIPTOR|VALORES|\n",
    "| --- | --- | --- |\n",
    "|Order|Variable de identificación|1 a 2930|\n",
    "|MS Zoning|Zona de ubicación de la vivienda|\"A rural, C comercial, FV residencial flotante, I industrial, RH residencial alta densidad, RL residencial baja densidad, RM residencial media densidad\"|\n",
    "|Lot Frontage|Longitud de la fachada en pies||\n",
    "|Lot Area|Superficie de la vivienda en pies cuadrados||\n",
    "|Land Contour|Contorno del terreno circundante|\"Lvl llano, Bnk Tipo bancal, HLS Ladera, Low Depresión\"|\n",
    "|Land Slope|Tipo de pendiente de la vivienda|\" Gtl pendiente suave, Mod pendiente moderada, Sev fuerte pendiente\"|\n",
    "|Overall Qual|Grado de calidad de materiales y acabado de la vivienda|De 1 (Muy pobre) a 10 (Excelente)|\n",
    "|Year Built|Año de construccion de la vivienda||\n",
    "|Year Remod/Add|Año de última reforma de la vivienda||\n",
    "|Mas Vnr Type|Tipo de revestimiento exterior|\" BrkCmn Ladrillo normal, BrkFace Ladrillo visto, CBlock Bloque de cemento, None Ninguna, Stone Piedra \"|\n",
    "|Exter Qual|Calidad de revestimiento exterior|\"Ex Excelente,Gd Bueno,TA Media,Fa Justo\"|\n",
    "|Bsmt Cond|Estado general del sótano|\"Ex Excelente, Gd Bueno, TA Media, Fa Justo, Po Pobre,Ss sin sótano\"|\n",
    "|Total Bsmt SF|Superficie del sótano en pies cuadrados|\n",
    "|Heating QC|Calidad de la calefacción|\"Ex Excelente,Gd Bueno,TA Media,Fa Justo,Po Pobre\"|\n",
    "|Central Air|Aire acondicionado centralizado|\"N No Y Sí\"|\n",
    "|Full Bath|Número de baños completo en planta||\n",
    "|Half Bath|Número de aseos en planta||\n",
    "|Bedroom AbvGr|Número de dormitorios en planta||\n",
    "|Kitchen AbvGr|Número de cocinas en planta||\n",
    "|Kitchen Qual|Calidad de cocinas|\"Ex Excelente,Gd Bueno,TA Media,Fa Justo,Po Pobre\"|\n",
    "|TotRms AbvGrd|Número total de habitaciones excluidos los cuartos de baño||\n",
    "|Garage Cars|Número de plazas de garaje||\n",
    "|Garage Area|Superficie del garaje|||\n",
    "|Garage Cond|Estado del garaje|\"Ex Excelente,Gd Bueno,TA Media,Fa Justo,Po Pobre,Sg sin garaje\"|\n",
    "|Pool Area|Superficie de la piscina en pies cuadrados|\n",
    "|Pool QC|Calidad de la piscina|\"Ex Excelente,Gd Bueno,TA Media,Fa Justo,Sp no hay piscina\"|\n",
    "|Mo Sold|mes de venta||\n",
    "|Yr Sold|año de venta||\n",
    "|SalePrice|precio de venta en dólares||"
   ]
  },
  {
   "cell_type": "markdown",
   "metadata": {
    "id": "-f85OsSdnEHR"
   },
   "source": [
    "Recomiendo al leer los datos, eliminar espacios de los nombres de las columnas, realiza un pequeño análisis inicial de los mismos. No olvides fijarte en los tipos de variables, que variables pueden tener tipos confundidos y corrige los. Sobre todo, trabaja con las fechas."
   ]
  },
  {
   "cell_type": "markdown",
   "metadata": {
    "id": "3z0YbSxPnEHS"
   },
   "source": [
    "**NOTA:** Las tareas complementarias sirven para subir nota. El resto de preguntas valen igual y suman 10 puntos."
   ]
  },
  {
   "cell_type": "markdown",
   "metadata": {
    "id": "MWp3y8imnEHT"
   },
   "source": [
    "## Inicializar y cargar el contexto spark"
   ]
  },
  {
   "cell_type": "markdown",
   "metadata": {
    "id": "T52ZIERfmHxd"
   },
   "source": [
    "Comenzamos cargando el contexto spark y añadiendo los datasets."
   ]
  },
  {
   "cell_type": "code",
   "execution_count": 1,
   "metadata": {
    "id": "jbBzBNTtnnX2"
   },
   "outputs": [],
   "source": [
    "!apt-get install openjdk-8-jdk-headless -qq > /dev/null\n",
    "!wget -q https://www-us.apache.org/dist/spark/spark-2.4.7/spark-2.4.7-bin-hadoop2.7.tgz\n",
    "!tar xf spark-2.4.7-bin-hadoop2.7.tgz #d\n",
    "!pip install -q findspark \n",
    "\n",
    "import os\n",
    "os.environ[\"JAVA_HOME\"] = \"/usr/lib/jvm/java-8-openjdk-amd64\"\n",
    "os.environ[\"SPARK_HOME\"] = \"/content/spark-2.4.7-bin-hadoop2.7\"\n",
    "\n",
    "import findspark\n",
    "findspark.init()\n",
    "from pyspark import SparkContext\n",
    "sc = SparkContext()\n",
    "from pyspark.sql import SparkSession\n",
    "spark = SparkSession.builder.master(\"local[*]\").getOrCreate()"
   ]
  },
  {
   "cell_type": "code",
   "execution_count": 2,
   "metadata": {
    "colab": {
     "base_uri": "https://localhost:8080/"
    },
    "id": "yzPbShElpNe7",
    "outputId": "229e4f2a-6dd9-41c9-ab4f-ef47abaa1fcf"
   },
   "outputs": [
    {
     "data": {
      "text/plain": [
       "[['1',\n",
       "  'RL',\n",
       "  '141',\n",
       "  '31770',\n",
       "  'Lvl',\n",
       "  'Gtl',\n",
       "  '6',\n",
       "  '1960',\n",
       "  '1960',\n",
       "  'Stone',\n",
       "  'TA',\n",
       "  'Gd',\n",
       "  '1080',\n",
       "  'Fa',\n",
       "  'Y',\n",
       "  '1',\n",
       "  '0',\n",
       "  '3',\n",
       "  '1',\n",
       "  'TA',\n",
       "  '7',\n",
       "  '2',\n",
       "  '528',\n",
       "  'TA',\n",
       "  '0',\n",
       "  'Sp',\n",
       "  '5',\n",
       "  '2010',\n",
       "  '215000']]"
      ]
     },
     "execution_count": 2,
     "metadata": {
      "tags": []
     },
     "output_type": "execute_result"
    }
   ],
   "source": [
    "viviendas = \"BDpracticafinalCSV.csv\" # subimos el archivo\n",
    "viviendas = sc.textFile(viviendas)\n",
    "primera_fila = viviendas.take(1)[0] \n",
    "viviendas = viviendas.filter(lambda x: x != primera_fila) #Nos quedamos con todo lo que no sea la primera fila\n",
    "viviendas = viviendas.map(lambda x: x.split(\";\")) # separamos por comas\n",
    "viviendas.take(1)\n"
   ]
  },
  {
   "cell_type": "markdown",
   "metadata": {
    "id": "S7IqRJnWmMD9"
   },
   "source": [
    "Importamos los paquetes de python numpy y pandas para una mayor facilidad a la hora de tratar con los datos."
   ]
  },
  {
   "cell_type": "code",
   "execution_count": 16,
   "metadata": {
    "id": "UHLUeWMNy5BY"
   },
   "outputs": [],
   "source": [
    "import pandas as pd\n",
    "import numpy as np"
   ]
  },
  {
   "cell_type": "code",
   "execution_count": 17,
   "metadata": {
    "colab": {
     "base_uri": "https://localhost:8080/",
     "height": 473
    },
    "id": "LnLSIxnpy5Dz",
    "outputId": "ed9424da-f90f-4888-c636-4abe68790288"
   },
   "outputs": [
    {
     "data": {
      "text/html": [
       "<div>\n",
       "<style scoped>\n",
       "    .dataframe tbody tr th:only-of-type {\n",
       "        vertical-align: middle;\n",
       "    }\n",
       "\n",
       "    .dataframe tbody tr th {\n",
       "        vertical-align: top;\n",
       "    }\n",
       "\n",
       "    .dataframe thead th {\n",
       "        text-align: right;\n",
       "    }\n",
       "</style>\n",
       "<table border=\"1\" class=\"dataframe\">\n",
       "  <thead>\n",
       "    <tr style=\"text-align: right;\">\n",
       "      <th></th>\n",
       "      <th>Order</th>\n",
       "      <th>MS Zoning</th>\n",
       "      <th>Lot Frontage</th>\n",
       "      <th>Lot Area</th>\n",
       "      <th>Land Contour</th>\n",
       "      <th>Land Slope</th>\n",
       "      <th>Overall Qual</th>\n",
       "      <th>Year Built</th>\n",
       "      <th>Year Remod/Add</th>\n",
       "      <th>Mas Vnr Type</th>\n",
       "      <th>Exter Qual</th>\n",
       "      <th>Bsmt Cond</th>\n",
       "      <th>Total Bsmt SF</th>\n",
       "      <th>Heating QC</th>\n",
       "      <th>Central Air</th>\n",
       "      <th>Full Bath</th>\n",
       "      <th>Half Bath</th>\n",
       "      <th>Bedroom AbvGr</th>\n",
       "      <th>Kitchen AbvGr</th>\n",
       "      <th>Kitchen Qual</th>\n",
       "      <th>TotRms AbvGrd</th>\n",
       "      <th>Garage Cars</th>\n",
       "      <th>Garage Area</th>\n",
       "      <th>Garage Cond</th>\n",
       "      <th>Pool Area</th>\n",
       "      <th>Pool QC</th>\n",
       "      <th>Mo Sold</th>\n",
       "      <th>Yr Sold</th>\n",
       "      <th>SalePrice</th>\n",
       "    </tr>\n",
       "  </thead>\n",
       "  <tbody>\n",
       "    <tr>\n",
       "      <th>0</th>\n",
       "      <td>1</td>\n",
       "      <td>RL</td>\n",
       "      <td>141.0</td>\n",
       "      <td>31770</td>\n",
       "      <td>Lvl</td>\n",
       "      <td>Gtl</td>\n",
       "      <td>6</td>\n",
       "      <td>1960</td>\n",
       "      <td>1960</td>\n",
       "      <td>Stone</td>\n",
       "      <td>TA</td>\n",
       "      <td>Gd</td>\n",
       "      <td>1080</td>\n",
       "      <td>Fa</td>\n",
       "      <td>Y</td>\n",
       "      <td>1</td>\n",
       "      <td>0</td>\n",
       "      <td>3</td>\n",
       "      <td>1</td>\n",
       "      <td>TA</td>\n",
       "      <td>7</td>\n",
       "      <td>2.0</td>\n",
       "      <td>528.0</td>\n",
       "      <td>TA</td>\n",
       "      <td>0</td>\n",
       "      <td>Sp</td>\n",
       "      <td>5</td>\n",
       "      <td>2010</td>\n",
       "      <td>215000</td>\n",
       "    </tr>\n",
       "    <tr>\n",
       "      <th>1</th>\n",
       "      <td>2</td>\n",
       "      <td>RH</td>\n",
       "      <td>80.0</td>\n",
       "      <td>11622</td>\n",
       "      <td>Lvl</td>\n",
       "      <td>Gtl</td>\n",
       "      <td>5</td>\n",
       "      <td>1961</td>\n",
       "      <td>1961</td>\n",
       "      <td>None</td>\n",
       "      <td>TA</td>\n",
       "      <td>TA</td>\n",
       "      <td>882</td>\n",
       "      <td>TA</td>\n",
       "      <td>Y</td>\n",
       "      <td>1</td>\n",
       "      <td>0</td>\n",
       "      <td>2</td>\n",
       "      <td>1</td>\n",
       "      <td>TA</td>\n",
       "      <td>5</td>\n",
       "      <td>1.0</td>\n",
       "      <td>730.0</td>\n",
       "      <td>TA</td>\n",
       "      <td>0</td>\n",
       "      <td>Sp</td>\n",
       "      <td>6</td>\n",
       "      <td>2010</td>\n",
       "      <td>105000</td>\n",
       "    </tr>\n",
       "    <tr>\n",
       "      <th>2</th>\n",
       "      <td>3</td>\n",
       "      <td>RL</td>\n",
       "      <td>81.0</td>\n",
       "      <td>14267</td>\n",
       "      <td>Lvl</td>\n",
       "      <td>Gtl</td>\n",
       "      <td>6</td>\n",
       "      <td>1958</td>\n",
       "      <td>1958</td>\n",
       "      <td>BrkFace</td>\n",
       "      <td>TA</td>\n",
       "      <td>TA</td>\n",
       "      <td>1329</td>\n",
       "      <td>TA</td>\n",
       "      <td>Y</td>\n",
       "      <td>1</td>\n",
       "      <td>1</td>\n",
       "      <td>3</td>\n",
       "      <td>1</td>\n",
       "      <td>Gd</td>\n",
       "      <td>6</td>\n",
       "      <td>1.0</td>\n",
       "      <td>312.0</td>\n",
       "      <td>TA</td>\n",
       "      <td>0</td>\n",
       "      <td>Sp</td>\n",
       "      <td>6</td>\n",
       "      <td>2010</td>\n",
       "      <td>172000</td>\n",
       "    </tr>\n",
       "    <tr>\n",
       "      <th>3</th>\n",
       "      <td>4</td>\n",
       "      <td>RL</td>\n",
       "      <td>93.0</td>\n",
       "      <td>11160</td>\n",
       "      <td>Lvl</td>\n",
       "      <td>Gtl</td>\n",
       "      <td>7</td>\n",
       "      <td>1968</td>\n",
       "      <td>1968</td>\n",
       "      <td>None</td>\n",
       "      <td>Gd</td>\n",
       "      <td>TA</td>\n",
       "      <td>2110</td>\n",
       "      <td>Ex</td>\n",
       "      <td>Y</td>\n",
       "      <td>2</td>\n",
       "      <td>1</td>\n",
       "      <td>3</td>\n",
       "      <td>1</td>\n",
       "      <td>Ex</td>\n",
       "      <td>8</td>\n",
       "      <td>2.0</td>\n",
       "      <td>522.0</td>\n",
       "      <td>TA</td>\n",
       "      <td>0</td>\n",
       "      <td>Sp</td>\n",
       "      <td>4</td>\n",
       "      <td>2010</td>\n",
       "      <td>244000</td>\n",
       "    </tr>\n",
       "    <tr>\n",
       "      <th>4</th>\n",
       "      <td>5</td>\n",
       "      <td>RL</td>\n",
       "      <td>74.0</td>\n",
       "      <td>13830</td>\n",
       "      <td>Lvl</td>\n",
       "      <td>Gtl</td>\n",
       "      <td>5</td>\n",
       "      <td>1997</td>\n",
       "      <td>1998</td>\n",
       "      <td>None</td>\n",
       "      <td>TA</td>\n",
       "      <td>TA</td>\n",
       "      <td>928</td>\n",
       "      <td>Gd</td>\n",
       "      <td>Y</td>\n",
       "      <td>2</td>\n",
       "      <td>1</td>\n",
       "      <td>3</td>\n",
       "      <td>1</td>\n",
       "      <td>TA</td>\n",
       "      <td>6</td>\n",
       "      <td>2.0</td>\n",
       "      <td>482.0</td>\n",
       "      <td>TA</td>\n",
       "      <td>0</td>\n",
       "      <td>Sp</td>\n",
       "      <td>3</td>\n",
       "      <td>2010</td>\n",
       "      <td>189900</td>\n",
       "    </tr>\n",
       "    <tr>\n",
       "      <th>...</th>\n",
       "      <td>...</td>\n",
       "      <td>...</td>\n",
       "      <td>...</td>\n",
       "      <td>...</td>\n",
       "      <td>...</td>\n",
       "      <td>...</td>\n",
       "      <td>...</td>\n",
       "      <td>...</td>\n",
       "      <td>...</td>\n",
       "      <td>...</td>\n",
       "      <td>...</td>\n",
       "      <td>...</td>\n",
       "      <td>...</td>\n",
       "      <td>...</td>\n",
       "      <td>...</td>\n",
       "      <td>...</td>\n",
       "      <td>...</td>\n",
       "      <td>...</td>\n",
       "      <td>...</td>\n",
       "      <td>...</td>\n",
       "      <td>...</td>\n",
       "      <td>...</td>\n",
       "      <td>...</td>\n",
       "      <td>...</td>\n",
       "      <td>...</td>\n",
       "      <td>...</td>\n",
       "      <td>...</td>\n",
       "      <td>...</td>\n",
       "      <td>...</td>\n",
       "    </tr>\n",
       "    <tr>\n",
       "      <th>2931</th>\n",
       "      <td>2930</td>\n",
       "      <td>RL</td>\n",
       "      <td>74.0</td>\n",
       "      <td>9627</td>\n",
       "      <td>Lvl</td>\n",
       "      <td>Mod</td>\n",
       "      <td>7</td>\n",
       "      <td>1993</td>\n",
       "      <td>1994</td>\n",
       "      <td>BrkFace</td>\n",
       "      <td>TA</td>\n",
       "      <td>TA</td>\n",
       "      <td>996</td>\n",
       "      <td>Ex</td>\n",
       "      <td>Y</td>\n",
       "      <td>2</td>\n",
       "      <td>1</td>\n",
       "      <td>3</td>\n",
       "      <td>1</td>\n",
       "      <td>TA</td>\n",
       "      <td>9</td>\n",
       "      <td>3.0</td>\n",
       "      <td>650.0</td>\n",
       "      <td>TA</td>\n",
       "      <td>0</td>\n",
       "      <td>Sp</td>\n",
       "      <td>11</td>\n",
       "      <td>2006</td>\n",
       "      <td>188000</td>\n",
       "    </tr>\n",
       "    <tr>\n",
       "      <th>2932</th>\n",
       "      <td>2898</td>\n",
       "      <td>Rl</td>\n",
       "      <td>NaN</td>\n",
       "      <td>11170</td>\n",
       "      <td>Lvl</td>\n",
       "      <td>Gtl</td>\n",
       "      <td>7</td>\n",
       "      <td>1990</td>\n",
       "      <td>1991</td>\n",
       "      <td>None</td>\n",
       "      <td>TA</td>\n",
       "      <td>TA</td>\n",
       "      <td>1216</td>\n",
       "      <td>Ex</td>\n",
       "      <td>Y</td>\n",
       "      <td>2</td>\n",
       "      <td>1</td>\n",
       "      <td>4</td>\n",
       "      <td>1</td>\n",
       "      <td>TA</td>\n",
       "      <td>8</td>\n",
       "      <td>2.0</td>\n",
       "      <td>693.0</td>\n",
       "      <td>TA</td>\n",
       "      <td>0</td>\n",
       "      <td>Sp</td>\n",
       "      <td>4</td>\n",
       "      <td>2006</td>\n",
       "      <td>250000</td>\n",
       "    </tr>\n",
       "    <tr>\n",
       "      <th>2933</th>\n",
       "      <td>2899</td>\n",
       "      <td>Rl</td>\n",
       "      <td>NaN</td>\n",
       "      <td>8098</td>\n",
       "      <td>Lvl</td>\n",
       "      <td>Gtl</td>\n",
       "      <td>6</td>\n",
       "      <td>2000</td>\n",
       "      <td>2000</td>\n",
       "      <td>None</td>\n",
       "      <td>Gd</td>\n",
       "      <td>TA</td>\n",
       "      <td>1381</td>\n",
       "      <td>Ex</td>\n",
       "      <td>Y</td>\n",
       "      <td>2</td>\n",
       "      <td>0</td>\n",
       "      <td>2</td>\n",
       "      <td>1</td>\n",
       "      <td>Gd</td>\n",
       "      <td>5</td>\n",
       "      <td>2.0</td>\n",
       "      <td>470.0</td>\n",
       "      <td>TA</td>\n",
       "      <td>0</td>\n",
       "      <td>Sp</td>\n",
       "      <td>10</td>\n",
       "      <td>2006</td>\n",
       "      <td>202000</td>\n",
       "    </tr>\n",
       "    <tr>\n",
       "      <th>2934</th>\n",
       "      <td>2900</td>\n",
       "      <td>Rl</td>\n",
       "      <td>85.0</td>\n",
       "      <td>14331</td>\n",
       "      <td>Lvl</td>\n",
       "      <td>Gtl</td>\n",
       "      <td>8</td>\n",
       "      <td>2002</td>\n",
       "      <td>2002</td>\n",
       "      <td>BrkFace</td>\n",
       "      <td>Gd</td>\n",
       "      <td>TA</td>\n",
       "      <td>1800</td>\n",
       "      <td>Ex</td>\n",
       "      <td>Y</td>\n",
       "      <td>2</td>\n",
       "      <td>0</td>\n",
       "      <td>3</td>\n",
       "      <td>1</td>\n",
       "      <td>Gd</td>\n",
       "      <td>7</td>\n",
       "      <td>3.0</td>\n",
       "      <td>765.0</td>\n",
       "      <td>TA</td>\n",
       "      <td>0</td>\n",
       "      <td>Sp</td>\n",
       "      <td>5</td>\n",
       "      <td>2006</td>\n",
       "      <td>312500</td>\n",
       "    </tr>\n",
       "    <tr>\n",
       "      <th>2935</th>\n",
       "      <td>2901</td>\n",
       "      <td>rL</td>\n",
       "      <td>95.0</td>\n",
       "      <td>13618</td>\n",
       "      <td>Lvl</td>\n",
       "      <td>Gtl</td>\n",
       "      <td>8</td>\n",
       "      <td>2005</td>\n",
       "      <td>2006</td>\n",
       "      <td>Stone</td>\n",
       "      <td>Gd</td>\n",
       "      <td>Gd</td>\n",
       "      <td>1728</td>\n",
       "      <td>Ex</td>\n",
       "      <td>Y</td>\n",
       "      <td>2</td>\n",
       "      <td>0</td>\n",
       "      <td>3</td>\n",
       "      <td>1</td>\n",
       "      <td>Gd</td>\n",
       "      <td>8</td>\n",
       "      <td>3.0</td>\n",
       "      <td>714.0</td>\n",
       "      <td>TA</td>\n",
       "      <td>0</td>\n",
       "      <td>Sp</td>\n",
       "      <td>11</td>\n",
       "      <td>2006</td>\n",
       "      <td>320000</td>\n",
       "    </tr>\n",
       "  </tbody>\n",
       "</table>\n",
       "<p>2936 rows × 29 columns</p>\n",
       "</div>"
      ],
      "text/plain": [
       "      Order MS Zoning  Lot Frontage  ...  Mo Sold Yr Sold SalePrice\n",
       "0         1        RL         141.0  ...        5    2010    215000\n",
       "1         2        RH          80.0  ...        6    2010    105000\n",
       "2         3        RL          81.0  ...        6    2010    172000\n",
       "3         4        RL          93.0  ...        4    2010    244000\n",
       "4         5        RL          74.0  ...        3    2010    189900\n",
       "...     ...       ...           ...  ...      ...     ...       ...\n",
       "2931   2930        RL          74.0  ...       11    2006    188000\n",
       "2932   2898        Rl           NaN  ...        4    2006    250000\n",
       "2933   2899        Rl           NaN  ...       10    2006    202000\n",
       "2934   2900        Rl          85.0  ...        5    2006    312500\n",
       "2935   2901        rL          95.0  ...       11    2006    320000\n",
       "\n",
       "[2936 rows x 29 columns]"
      ]
     },
     "execution_count": 17,
     "metadata": {
      "tags": []
     },
     "output_type": "execute_result"
    }
   ],
   "source": [
    "viviendaspd = pd.read_csv(\"BDpracticafinalCSV.csv\", sep=\";\")\n",
    "viviendaspd"
   ]
  },
  {
   "cell_type": "markdown",
   "metadata": {
    "id": "K0TV7f6bmSnm"
   },
   "source": [
    "Hemos leído el segundo archivos de datos unicamente la segunda hoja de nuestro dataset, el cual nos proporciona información acerca de los datos."
   ]
  },
  {
   "cell_type": "code",
   "execution_count": 52,
   "metadata": {
    "colab": {
     "base_uri": "https://localhost:8080/",
     "height": 948
    },
    "id": "yeriPlhZjrkY",
    "outputId": "5de70b50-e7b6-4e02-d854-315659a5954e"
   },
   "outputs": [
    {
     "data": {
      "text/html": [
       "<div>\n",
       "<style scoped>\n",
       "    .dataframe tbody tr th:only-of-type {\n",
       "        vertical-align: middle;\n",
       "    }\n",
       "\n",
       "    .dataframe tbody tr th {\n",
       "        vertical-align: top;\n",
       "    }\n",
       "\n",
       "    .dataframe thead th {\n",
       "        text-align: right;\n",
       "    }\n",
       "</style>\n",
       "<table border=\"1\" class=\"dataframe\">\n",
       "  <thead>\n",
       "    <tr style=\"text-align: right;\">\n",
       "      <th></th>\n",
       "      <th>NOMBRE VARIABLE</th>\n",
       "      <th>DESCRIPTOR</th>\n",
       "      <th>VALORES</th>\n",
       "    </tr>\n",
       "  </thead>\n",
       "  <tbody>\n",
       "    <tr>\n",
       "      <th>0</th>\n",
       "      <td>Order</td>\n",
       "      <td>Variable de identificación</td>\n",
       "      <td>1 a 2930</td>\n",
       "    </tr>\n",
       "    <tr>\n",
       "      <th>1</th>\n",
       "      <td>MS Zoning</td>\n",
       "      <td>Zona de ubicación de la vivienda</td>\n",
       "      <td>A rural\\n       C comercial\\n       FV ...</td>\n",
       "    </tr>\n",
       "    <tr>\n",
       "      <th>2</th>\n",
       "      <td>Lot Frontage</td>\n",
       "      <td>Longitud de la fachada en pies</td>\n",
       "      <td>NaN</td>\n",
       "    </tr>\n",
       "    <tr>\n",
       "      <th>3</th>\n",
       "      <td>Lot Area</td>\n",
       "      <td>Superficie de la vivienda en pies cuadrados</td>\n",
       "      <td>NaN</td>\n",
       "    </tr>\n",
       "    <tr>\n",
       "      <th>4</th>\n",
       "      <td>Land Contour</td>\n",
       "      <td>Contorno del terreno circundante</td>\n",
       "      <td>Lvl llano \\n       Bnk Tipo bancal\\n   ...</td>\n",
       "    </tr>\n",
       "    <tr>\n",
       "      <th>5</th>\n",
       "      <td>Land Slope</td>\n",
       "      <td>Tipo de pendiente de la vivienda</td>\n",
       "      <td>Gtl pendiente suave\\n       Mod pendien...</td>\n",
       "    </tr>\n",
       "    <tr>\n",
       "      <th>6</th>\n",
       "      <td>Overall Qual</td>\n",
       "      <td>Grado de calidad de materiales y acabado de la...</td>\n",
       "      <td>De 1 (Muy pobre) a 10 (Excelente)</td>\n",
       "    </tr>\n",
       "    <tr>\n",
       "      <th>7</th>\n",
       "      <td>Year Built</td>\n",
       "      <td>Año de construccion de la vivienda</td>\n",
       "      <td>NaN</td>\n",
       "    </tr>\n",
       "    <tr>\n",
       "      <th>8</th>\n",
       "      <td>Year Remod/Add</td>\n",
       "      <td>Año de última reforma de la vivienda</td>\n",
       "      <td>NaN</td>\n",
       "    </tr>\n",
       "    <tr>\n",
       "      <th>9</th>\n",
       "      <td>Mas Vnr Type</td>\n",
       "      <td>Tipo de revestimiento exterior</td>\n",
       "      <td>BrkCmn Ladrillo normal\\n       BrkFace ...</td>\n",
       "    </tr>\n",
       "    <tr>\n",
       "      <th>10</th>\n",
       "      <td>Exter Qual</td>\n",
       "      <td>Calidad de revestimiento exterior</td>\n",
       "      <td>Ex Excelente\\n       Gd Bueno\\n       T...</td>\n",
       "    </tr>\n",
       "    <tr>\n",
       "      <th>11</th>\n",
       "      <td>Bsmt Cond</td>\n",
       "      <td>Estado general del sótano</td>\n",
       "      <td>Ex Excelente\\n       Gd Bueno\\n       T...</td>\n",
       "    </tr>\n",
       "    <tr>\n",
       "      <th>12</th>\n",
       "      <td>Total Bsmt SF</td>\n",
       "      <td>Superficie del sótano en pies cuadrados</td>\n",
       "      <td>NaN</td>\n",
       "    </tr>\n",
       "    <tr>\n",
       "      <th>13</th>\n",
       "      <td>Heating QC</td>\n",
       "      <td>Calidad de la calefacción</td>\n",
       "      <td>Ex Excelente\\n       Gd Bueno\\n       T...</td>\n",
       "    </tr>\n",
       "    <tr>\n",
       "      <th>14</th>\n",
       "      <td>Central Air</td>\n",
       "      <td>Aire acondicionado centralizado</td>\n",
       "      <td>N No\\n       Y Sí</td>\n",
       "    </tr>\n",
       "    <tr>\n",
       "      <th>15</th>\n",
       "      <td>Full Bath</td>\n",
       "      <td>Número de baños completo en planta</td>\n",
       "      <td>NaN</td>\n",
       "    </tr>\n",
       "    <tr>\n",
       "      <th>16</th>\n",
       "      <td>Half Bath</td>\n",
       "      <td>Número de aseos en planta</td>\n",
       "      <td>NaN</td>\n",
       "    </tr>\n",
       "    <tr>\n",
       "      <th>17</th>\n",
       "      <td>Bedroom AbvGr</td>\n",
       "      <td>Número de dormitorios en planta</td>\n",
       "      <td>NaN</td>\n",
       "    </tr>\n",
       "    <tr>\n",
       "      <th>18</th>\n",
       "      <td>Kitchen AbvGr</td>\n",
       "      <td>Número de cocinas en planta</td>\n",
       "      <td>NaN</td>\n",
       "    </tr>\n",
       "    <tr>\n",
       "      <th>19</th>\n",
       "      <td>Kitchen Qual</td>\n",
       "      <td>Calidad de cocinas</td>\n",
       "      <td>Ex Excelente\\n       Gd Bueno\\n       T...</td>\n",
       "    </tr>\n",
       "    <tr>\n",
       "      <th>20</th>\n",
       "      <td>TotRms AbvGrd</td>\n",
       "      <td>Número total de habitaciones excluidos los cua...</td>\n",
       "      <td>NaN</td>\n",
       "    </tr>\n",
       "    <tr>\n",
       "      <th>21</th>\n",
       "      <td>Garage Cars</td>\n",
       "      <td>Número de plazas de garaje</td>\n",
       "      <td>NaN</td>\n",
       "    </tr>\n",
       "    <tr>\n",
       "      <th>22</th>\n",
       "      <td>Garage Area</td>\n",
       "      <td>Superficie del garaje</td>\n",
       "      <td>NaN</td>\n",
       "    </tr>\n",
       "    <tr>\n",
       "      <th>23</th>\n",
       "      <td>Garage Cond</td>\n",
       "      <td>Estado del garaje</td>\n",
       "      <td>Ex Excelente\\n       Gd Bueno\\n       T...</td>\n",
       "    </tr>\n",
       "    <tr>\n",
       "      <th>24</th>\n",
       "      <td>Pool Area</td>\n",
       "      <td>Superficie de la piscina en pies cuadrados</td>\n",
       "      <td>NaN</td>\n",
       "    </tr>\n",
       "    <tr>\n",
       "      <th>25</th>\n",
       "      <td>Pool QC</td>\n",
       "      <td>Calidad de la piscina</td>\n",
       "      <td>Ex Excelente\\n       Gd Bueno\\n       T...</td>\n",
       "    </tr>\n",
       "    <tr>\n",
       "      <th>26</th>\n",
       "      <td>Mo Sold</td>\n",
       "      <td>mes de venta</td>\n",
       "      <td>NaN</td>\n",
       "    </tr>\n",
       "    <tr>\n",
       "      <th>27</th>\n",
       "      <td>Yr Sold</td>\n",
       "      <td>año de venta</td>\n",
       "      <td>NaN</td>\n",
       "    </tr>\n",
       "    <tr>\n",
       "      <th>28</th>\n",
       "      <td>SalePrice</td>\n",
       "      <td>precio de venta en dólares</td>\n",
       "      <td>NaN</td>\n",
       "    </tr>\n",
       "  </tbody>\n",
       "</table>\n",
       "</div>"
      ],
      "text/plain": [
       "   NOMBRE VARIABLE  ...                                            VALORES\n",
       "0            Order  ...                                           1 a 2930\n",
       "1        MS Zoning  ...         A rural\\n       C comercial\\n       FV ...\n",
       "2     Lot Frontage  ...                                                NaN\n",
       "3         Lot Area  ...                                                NaN\n",
       "4     Land Contour  ...         Lvl llano \\n       Bnk Tipo bancal\\n   ...\n",
       "5       Land Slope  ...         Gtl pendiente suave\\n       Mod pendien...\n",
       "6     Overall Qual  ...                  De 1 (Muy pobre) a 10 (Excelente)\n",
       "7       Year Built  ...                                                NaN\n",
       "8   Year Remod/Add  ...                                                NaN\n",
       "9     Mas Vnr Type  ...         BrkCmn Ladrillo normal\\n       BrkFace ...\n",
       "10      Exter Qual  ...         Ex Excelente\\n       Gd Bueno\\n       T...\n",
       "11       Bsmt Cond  ...         Ex Excelente\\n       Gd Bueno\\n       T...\n",
       "12   Total Bsmt SF  ...                                                NaN\n",
       "13      Heating QC  ...         Ex Excelente\\n       Gd Bueno\\n       T...\n",
       "14     Central Air  ...                                  N No\\n       Y Sí\n",
       "15       Full Bath  ...                                                NaN\n",
       "16       Half Bath  ...                                                NaN\n",
       "17   Bedroom AbvGr  ...                                                NaN\n",
       "18   Kitchen AbvGr  ...                                                NaN\n",
       "19    Kitchen Qual  ...         Ex Excelente\\n       Gd Bueno\\n       T...\n",
       "20   TotRms AbvGrd  ...                                                NaN\n",
       "21     Garage Cars  ...                                                NaN\n",
       "22     Garage Area  ...                                                NaN\n",
       "23     Garage Cond  ...         Ex Excelente\\n       Gd Bueno\\n       T...\n",
       "24       Pool Area  ...                                                NaN\n",
       "25         Pool QC  ...         Ex Excelente\\n       Gd Bueno\\n       T...\n",
       "26         Mo Sold  ...                                                NaN\n",
       "27         Yr Sold  ...                                                NaN\n",
       "28       SalePrice  ...                                                NaN\n",
       "\n",
       "[29 rows x 3 columns]"
      ]
     },
     "execution_count": 52,
     "metadata": {
      "tags": []
     },
     "output_type": "execute_result"
    }
   ],
   "source": [
    "viviendaspd_1 = pd.read_excel('BDpracticafinal2021.xlsx', sheet_name='Diseño de registro')\n",
    "viviendaspd_1"
   ]
  },
  {
   "cell_type": "markdown",
   "metadata": {
    "id": "lt9Uo6oGmcjq"
   },
   "source": [
    "Comprobamos los distintos valores que tenemos en la variable 'MS Zoning'"
   ]
  },
  {
   "cell_type": "code",
   "execution_count": 18,
   "metadata": {
    "colab": {
     "base_uri": "https://localhost:8080/"
    },
    "id": "kz-zDUg_GMg2",
    "outputId": "8f74deb8-0ebd-49ee-def8-4ee03d69ea1f"
   },
   "outputs": [
    {
     "data": {
      "text/plain": [
       "array(['RL', 'RH', 'FV', 'RM', 'C', 'I', 'A', 'Rl', 'rL'], dtype=object)"
      ]
     },
     "execution_count": 18,
     "metadata": {
      "tags": []
     },
     "output_type": "execute_result"
    }
   ],
   "source": [
    "viviendaspd['MS Zoning'].unique()"
   ]
  },
  {
   "cell_type": "markdown",
   "metadata": {
    "id": "y5eKuM8Qmhf9"
   },
   "source": [
    "Y comprobamos el tipo de datos:"
   ]
  },
  {
   "cell_type": "code",
   "execution_count": 6,
   "metadata": {
    "colab": {
     "base_uri": "https://localhost:8080/"
    },
    "id": "G-fiqDsWTEiA",
    "outputId": "c220985e-cee7-4d55-d49a-83c7256a4fa7"
   },
   "outputs": [
    {
     "name": "stdout",
     "output_type": "stream",
     "text": [
      "<class 'pandas.core.frame.DataFrame'>\n",
      "RangeIndex: 2936 entries, 0 to 2935\n",
      "Data columns (total 29 columns):\n",
      " #   Column          Non-Null Count  Dtype  \n",
      "---  ------          --------------  -----  \n",
      " 0   Order           2936 non-null   int64  \n",
      " 1   MS Zoning       2936 non-null   object \n",
      " 2   Lot Frontage    2444 non-null   float64\n",
      " 3   Lot Area        2936 non-null   int64  \n",
      " 4   Land Contour    2936 non-null   object \n",
      " 5   Land Slope      2936 non-null   object \n",
      " 6   Overall Qual    2936 non-null   int64  \n",
      " 7   Year Built      2936 non-null   int64  \n",
      " 8   Year Remod/Add  2936 non-null   int64  \n",
      " 9   Mas Vnr Type    2913 non-null   object \n",
      " 10  Exter Qual      2936 non-null   object \n",
      " 11  Bsmt Cond       2936 non-null   object \n",
      " 12  Total Bsmt SF   2936 non-null   int64  \n",
      " 13  Heating QC      2936 non-null   object \n",
      " 14  Central Air     2936 non-null   object \n",
      " 15  Full Bath       2936 non-null   int64  \n",
      " 16  Half Bath       2936 non-null   int64  \n",
      " 17  Bedroom AbvGr   2936 non-null   int64  \n",
      " 18  Kitchen AbvGr   2936 non-null   int64  \n",
      " 19  Kitchen Qual    2936 non-null   object \n",
      " 20  TotRms AbvGrd   2936 non-null   int64  \n",
      " 21  Garage Cars     2935 non-null   float64\n",
      " 22  Garage Area     2935 non-null   float64\n",
      " 23  Garage Cond     2934 non-null   object \n",
      " 24  Pool Area       2936 non-null   int64  \n",
      " 25  Pool QC         2936 non-null   object \n",
      " 26  Mo Sold         2936 non-null   int64  \n",
      " 27  Yr Sold         2936 non-null   int64  \n",
      " 28  SalePrice       2936 non-null   int64  \n",
      "dtypes: float64(3), int64(15), object(11)\n",
      "memory usage: 665.3+ KB\n"
     ]
    }
   ],
   "source": [
    "viviendaspd.info()"
   ]
  },
  {
   "cell_type": "markdown",
   "metadata": {
    "id": "Vc1aehOh9B6G"
   },
   "source": [
    "Viviendas ubicadas en zonas residenciales (alta, media y baja densidad)."
   ]
  },
  {
   "cell_type": "code",
   "execution_count": 19,
   "metadata": {
    "colab": {
     "base_uri": "https://localhost:8080/",
     "height": 473
    },
    "id": "UQ6fxitL3Res",
    "outputId": "fd6c7dfa-e763-4777-f350-d1d7c4853f6b"
   },
   "outputs": [
    {
     "data": {
      "text/html": [
       "<div>\n",
       "<style scoped>\n",
       "    .dataframe tbody tr th:only-of-type {\n",
       "        vertical-align: middle;\n",
       "    }\n",
       "\n",
       "    .dataframe tbody tr th {\n",
       "        vertical-align: top;\n",
       "    }\n",
       "\n",
       "    .dataframe thead th {\n",
       "        text-align: right;\n",
       "    }\n",
       "</style>\n",
       "<table border=\"1\" class=\"dataframe\">\n",
       "  <thead>\n",
       "    <tr style=\"text-align: right;\">\n",
       "      <th></th>\n",
       "      <th>Order</th>\n",
       "      <th>MS Zoning</th>\n",
       "      <th>Lot Frontage</th>\n",
       "      <th>Lot Area</th>\n",
       "      <th>Land Contour</th>\n",
       "      <th>Land Slope</th>\n",
       "      <th>Overall Qual</th>\n",
       "      <th>Year Built</th>\n",
       "      <th>Year Remod/Add</th>\n",
       "      <th>Mas Vnr Type</th>\n",
       "      <th>Exter Qual</th>\n",
       "      <th>Bsmt Cond</th>\n",
       "      <th>Total Bsmt SF</th>\n",
       "      <th>Heating QC</th>\n",
       "      <th>Central Air</th>\n",
       "      <th>Full Bath</th>\n",
       "      <th>Half Bath</th>\n",
       "      <th>Bedroom AbvGr</th>\n",
       "      <th>Kitchen AbvGr</th>\n",
       "      <th>Kitchen Qual</th>\n",
       "      <th>TotRms AbvGrd</th>\n",
       "      <th>Garage Cars</th>\n",
       "      <th>Garage Area</th>\n",
       "      <th>Garage Cond</th>\n",
       "      <th>Pool Area</th>\n",
       "      <th>Pool QC</th>\n",
       "      <th>Mo Sold</th>\n",
       "      <th>Yr Sold</th>\n",
       "      <th>SalePrice</th>\n",
       "    </tr>\n",
       "  </thead>\n",
       "  <tbody>\n",
       "    <tr>\n",
       "      <th>0</th>\n",
       "      <td>1</td>\n",
       "      <td>RL</td>\n",
       "      <td>141.0</td>\n",
       "      <td>31770</td>\n",
       "      <td>Lvl</td>\n",
       "      <td>Gtl</td>\n",
       "      <td>6</td>\n",
       "      <td>1960</td>\n",
       "      <td>1960</td>\n",
       "      <td>Stone</td>\n",
       "      <td>TA</td>\n",
       "      <td>Gd</td>\n",
       "      <td>1080</td>\n",
       "      <td>Fa</td>\n",
       "      <td>Y</td>\n",
       "      <td>1</td>\n",
       "      <td>0</td>\n",
       "      <td>3</td>\n",
       "      <td>1</td>\n",
       "      <td>TA</td>\n",
       "      <td>7</td>\n",
       "      <td>2.0</td>\n",
       "      <td>528.0</td>\n",
       "      <td>TA</td>\n",
       "      <td>0</td>\n",
       "      <td>Sp</td>\n",
       "      <td>5</td>\n",
       "      <td>2010</td>\n",
       "      <td>215000</td>\n",
       "    </tr>\n",
       "    <tr>\n",
       "      <th>1</th>\n",
       "      <td>2</td>\n",
       "      <td>RH</td>\n",
       "      <td>80.0</td>\n",
       "      <td>11622</td>\n",
       "      <td>Lvl</td>\n",
       "      <td>Gtl</td>\n",
       "      <td>5</td>\n",
       "      <td>1961</td>\n",
       "      <td>1961</td>\n",
       "      <td>None</td>\n",
       "      <td>TA</td>\n",
       "      <td>TA</td>\n",
       "      <td>882</td>\n",
       "      <td>TA</td>\n",
       "      <td>Y</td>\n",
       "      <td>1</td>\n",
       "      <td>0</td>\n",
       "      <td>2</td>\n",
       "      <td>1</td>\n",
       "      <td>TA</td>\n",
       "      <td>5</td>\n",
       "      <td>1.0</td>\n",
       "      <td>730.0</td>\n",
       "      <td>TA</td>\n",
       "      <td>0</td>\n",
       "      <td>Sp</td>\n",
       "      <td>6</td>\n",
       "      <td>2010</td>\n",
       "      <td>105000</td>\n",
       "    </tr>\n",
       "    <tr>\n",
       "      <th>2</th>\n",
       "      <td>3</td>\n",
       "      <td>RL</td>\n",
       "      <td>81.0</td>\n",
       "      <td>14267</td>\n",
       "      <td>Lvl</td>\n",
       "      <td>Gtl</td>\n",
       "      <td>6</td>\n",
       "      <td>1958</td>\n",
       "      <td>1958</td>\n",
       "      <td>BrkFace</td>\n",
       "      <td>TA</td>\n",
       "      <td>TA</td>\n",
       "      <td>1329</td>\n",
       "      <td>TA</td>\n",
       "      <td>Y</td>\n",
       "      <td>1</td>\n",
       "      <td>1</td>\n",
       "      <td>3</td>\n",
       "      <td>1</td>\n",
       "      <td>Gd</td>\n",
       "      <td>6</td>\n",
       "      <td>1.0</td>\n",
       "      <td>312.0</td>\n",
       "      <td>TA</td>\n",
       "      <td>0</td>\n",
       "      <td>Sp</td>\n",
       "      <td>6</td>\n",
       "      <td>2010</td>\n",
       "      <td>172000</td>\n",
       "    </tr>\n",
       "    <tr>\n",
       "      <th>3</th>\n",
       "      <td>4</td>\n",
       "      <td>RL</td>\n",
       "      <td>93.0</td>\n",
       "      <td>11160</td>\n",
       "      <td>Lvl</td>\n",
       "      <td>Gtl</td>\n",
       "      <td>7</td>\n",
       "      <td>1968</td>\n",
       "      <td>1968</td>\n",
       "      <td>None</td>\n",
       "      <td>Gd</td>\n",
       "      <td>TA</td>\n",
       "      <td>2110</td>\n",
       "      <td>Ex</td>\n",
       "      <td>Y</td>\n",
       "      <td>2</td>\n",
       "      <td>1</td>\n",
       "      <td>3</td>\n",
       "      <td>1</td>\n",
       "      <td>Ex</td>\n",
       "      <td>8</td>\n",
       "      <td>2.0</td>\n",
       "      <td>522.0</td>\n",
       "      <td>TA</td>\n",
       "      <td>0</td>\n",
       "      <td>Sp</td>\n",
       "      <td>4</td>\n",
       "      <td>2010</td>\n",
       "      <td>244000</td>\n",
       "    </tr>\n",
       "    <tr>\n",
       "      <th>4</th>\n",
       "      <td>5</td>\n",
       "      <td>RL</td>\n",
       "      <td>74.0</td>\n",
       "      <td>13830</td>\n",
       "      <td>Lvl</td>\n",
       "      <td>Gtl</td>\n",
       "      <td>5</td>\n",
       "      <td>1997</td>\n",
       "      <td>1998</td>\n",
       "      <td>None</td>\n",
       "      <td>TA</td>\n",
       "      <td>TA</td>\n",
       "      <td>928</td>\n",
       "      <td>Gd</td>\n",
       "      <td>Y</td>\n",
       "      <td>2</td>\n",
       "      <td>1</td>\n",
       "      <td>3</td>\n",
       "      <td>1</td>\n",
       "      <td>TA</td>\n",
       "      <td>6</td>\n",
       "      <td>2.0</td>\n",
       "      <td>482.0</td>\n",
       "      <td>TA</td>\n",
       "      <td>0</td>\n",
       "      <td>Sp</td>\n",
       "      <td>3</td>\n",
       "      <td>2010</td>\n",
       "      <td>189900</td>\n",
       "    </tr>\n",
       "    <tr>\n",
       "      <th>...</th>\n",
       "      <td>...</td>\n",
       "      <td>...</td>\n",
       "      <td>...</td>\n",
       "      <td>...</td>\n",
       "      <td>...</td>\n",
       "      <td>...</td>\n",
       "      <td>...</td>\n",
       "      <td>...</td>\n",
       "      <td>...</td>\n",
       "      <td>...</td>\n",
       "      <td>...</td>\n",
       "      <td>...</td>\n",
       "      <td>...</td>\n",
       "      <td>...</td>\n",
       "      <td>...</td>\n",
       "      <td>...</td>\n",
       "      <td>...</td>\n",
       "      <td>...</td>\n",
       "      <td>...</td>\n",
       "      <td>...</td>\n",
       "      <td>...</td>\n",
       "      <td>...</td>\n",
       "      <td>...</td>\n",
       "      <td>...</td>\n",
       "      <td>...</td>\n",
       "      <td>...</td>\n",
       "      <td>...</td>\n",
       "      <td>...</td>\n",
       "      <td>...</td>\n",
       "    </tr>\n",
       "    <tr>\n",
       "      <th>2931</th>\n",
       "      <td>2930</td>\n",
       "      <td>RL</td>\n",
       "      <td>74.0</td>\n",
       "      <td>9627</td>\n",
       "      <td>Lvl</td>\n",
       "      <td>Mod</td>\n",
       "      <td>7</td>\n",
       "      <td>1993</td>\n",
       "      <td>1994</td>\n",
       "      <td>BrkFace</td>\n",
       "      <td>TA</td>\n",
       "      <td>TA</td>\n",
       "      <td>996</td>\n",
       "      <td>Ex</td>\n",
       "      <td>Y</td>\n",
       "      <td>2</td>\n",
       "      <td>1</td>\n",
       "      <td>3</td>\n",
       "      <td>1</td>\n",
       "      <td>TA</td>\n",
       "      <td>9</td>\n",
       "      <td>3.0</td>\n",
       "      <td>650.0</td>\n",
       "      <td>TA</td>\n",
       "      <td>0</td>\n",
       "      <td>Sp</td>\n",
       "      <td>11</td>\n",
       "      <td>2006</td>\n",
       "      <td>188000</td>\n",
       "    </tr>\n",
       "    <tr>\n",
       "      <th>2932</th>\n",
       "      <td>2898</td>\n",
       "      <td>Rl</td>\n",
       "      <td>NaN</td>\n",
       "      <td>11170</td>\n",
       "      <td>Lvl</td>\n",
       "      <td>Gtl</td>\n",
       "      <td>7</td>\n",
       "      <td>1990</td>\n",
       "      <td>1991</td>\n",
       "      <td>None</td>\n",
       "      <td>TA</td>\n",
       "      <td>TA</td>\n",
       "      <td>1216</td>\n",
       "      <td>Ex</td>\n",
       "      <td>Y</td>\n",
       "      <td>2</td>\n",
       "      <td>1</td>\n",
       "      <td>4</td>\n",
       "      <td>1</td>\n",
       "      <td>TA</td>\n",
       "      <td>8</td>\n",
       "      <td>2.0</td>\n",
       "      <td>693.0</td>\n",
       "      <td>TA</td>\n",
       "      <td>0</td>\n",
       "      <td>Sp</td>\n",
       "      <td>4</td>\n",
       "      <td>2006</td>\n",
       "      <td>250000</td>\n",
       "    </tr>\n",
       "    <tr>\n",
       "      <th>2933</th>\n",
       "      <td>2899</td>\n",
       "      <td>Rl</td>\n",
       "      <td>NaN</td>\n",
       "      <td>8098</td>\n",
       "      <td>Lvl</td>\n",
       "      <td>Gtl</td>\n",
       "      <td>6</td>\n",
       "      <td>2000</td>\n",
       "      <td>2000</td>\n",
       "      <td>None</td>\n",
       "      <td>Gd</td>\n",
       "      <td>TA</td>\n",
       "      <td>1381</td>\n",
       "      <td>Ex</td>\n",
       "      <td>Y</td>\n",
       "      <td>2</td>\n",
       "      <td>0</td>\n",
       "      <td>2</td>\n",
       "      <td>1</td>\n",
       "      <td>Gd</td>\n",
       "      <td>5</td>\n",
       "      <td>2.0</td>\n",
       "      <td>470.0</td>\n",
       "      <td>TA</td>\n",
       "      <td>0</td>\n",
       "      <td>Sp</td>\n",
       "      <td>10</td>\n",
       "      <td>2006</td>\n",
       "      <td>202000</td>\n",
       "    </tr>\n",
       "    <tr>\n",
       "      <th>2934</th>\n",
       "      <td>2900</td>\n",
       "      <td>Rl</td>\n",
       "      <td>85.0</td>\n",
       "      <td>14331</td>\n",
       "      <td>Lvl</td>\n",
       "      <td>Gtl</td>\n",
       "      <td>8</td>\n",
       "      <td>2002</td>\n",
       "      <td>2002</td>\n",
       "      <td>BrkFace</td>\n",
       "      <td>Gd</td>\n",
       "      <td>TA</td>\n",
       "      <td>1800</td>\n",
       "      <td>Ex</td>\n",
       "      <td>Y</td>\n",
       "      <td>2</td>\n",
       "      <td>0</td>\n",
       "      <td>3</td>\n",
       "      <td>1</td>\n",
       "      <td>Gd</td>\n",
       "      <td>7</td>\n",
       "      <td>3.0</td>\n",
       "      <td>765.0</td>\n",
       "      <td>TA</td>\n",
       "      <td>0</td>\n",
       "      <td>Sp</td>\n",
       "      <td>5</td>\n",
       "      <td>2006</td>\n",
       "      <td>312500</td>\n",
       "    </tr>\n",
       "    <tr>\n",
       "      <th>2935</th>\n",
       "      <td>2901</td>\n",
       "      <td>rL</td>\n",
       "      <td>95.0</td>\n",
       "      <td>13618</td>\n",
       "      <td>Lvl</td>\n",
       "      <td>Gtl</td>\n",
       "      <td>8</td>\n",
       "      <td>2005</td>\n",
       "      <td>2006</td>\n",
       "      <td>Stone</td>\n",
       "      <td>Gd</td>\n",
       "      <td>Gd</td>\n",
       "      <td>1728</td>\n",
       "      <td>Ex</td>\n",
       "      <td>Y</td>\n",
       "      <td>2</td>\n",
       "      <td>0</td>\n",
       "      <td>3</td>\n",
       "      <td>1</td>\n",
       "      <td>Gd</td>\n",
       "      <td>8</td>\n",
       "      <td>3.0</td>\n",
       "      <td>714.0</td>\n",
       "      <td>TA</td>\n",
       "      <td>0</td>\n",
       "      <td>Sp</td>\n",
       "      <td>11</td>\n",
       "      <td>2006</td>\n",
       "      <td>320000</td>\n",
       "    </tr>\n",
       "  </tbody>\n",
       "</table>\n",
       "<p>2768 rows × 29 columns</p>\n",
       "</div>"
      ],
      "text/plain": [
       "      Order MS Zoning  Lot Frontage  ...  Mo Sold Yr Sold SalePrice\n",
       "0         1        RL         141.0  ...        5    2010    215000\n",
       "1         2        RH          80.0  ...        6    2010    105000\n",
       "2         3        RL          81.0  ...        6    2010    172000\n",
       "3         4        RL          93.0  ...        4    2010    244000\n",
       "4         5        RL          74.0  ...        3    2010    189900\n",
       "...     ...       ...           ...  ...      ...     ...       ...\n",
       "2931   2930        RL          74.0  ...       11    2006    188000\n",
       "2932   2898        Rl           NaN  ...        4    2006    250000\n",
       "2933   2899        Rl           NaN  ...       10    2006    202000\n",
       "2934   2900        Rl          85.0  ...        5    2006    312500\n",
       "2935   2901        rL          95.0  ...       11    2006    320000\n",
       "\n",
       "[2768 rows x 29 columns]"
      ]
     },
     "execution_count": 19,
     "metadata": {
      "tags": []
     },
     "output_type": "execute_result"
    }
   ],
   "source": [
    "filtro1 = viviendaspd['MS Zoning'] == 'RH'\n",
    "filtro2 = viviendaspd['MS Zoning'] == 'RL'\n",
    "filtro3 = viviendaspd['MS Zoning'] == 'RM'\n",
    "filtro4 = viviendaspd['MS Zoning'] == 'Rl'\n",
    "filtro5 = viviendaspd['MS Zoning'] == 'rL'\n",
    "\n",
    "viviendaspd = viviendaspd[filtro1 | filtro2 | filtro3 | filtro4 | filtro5]\n",
    "viviendaspd"
   ]
  },
  {
   "cell_type": "markdown",
   "metadata": {
    "id": "b4L1xTgsmx9s"
   },
   "source": [
    "Viviendas ubicadas en zonas residenciales (alta, media y baja densidad)."
   ]
  },
  {
   "cell_type": "code",
   "execution_count": 20,
   "metadata": {
    "colab": {
     "base_uri": "https://localhost:8080/"
    },
    "id": "KasSZaTbUeN7",
    "outputId": "d650b033-0f8d-4692-9152-d3293d5c592b"
   },
   "outputs": [
    {
     "data": {
      "text/plain": [
       "2768"
      ]
     },
     "execution_count": 20,
     "metadata": {
      "tags": []
     },
     "output_type": "execute_result"
    }
   ],
   "source": [
    "RL = viviendas.filter(lambda x: x[1] == 'RL')\n",
    "RH = viviendas.filter(lambda x: x[1] == 'RH')\n",
    "RM = viviendas.filter(lambda x: x[1] == 'RM')\n",
    "rL = viviendas.filter(lambda x: x[1] == 'rL')\n",
    "Rl = viviendas.filter(lambda x: x[1] == 'Rl')\n",
    "join = RL.union(RH)\n",
    "join = join.union(RM)\n",
    "join = join.union(rL)\n",
    "viv_fin = join.union(Rl)\n",
    "viv_fin.count()"
   ]
  },
  {
   "cell_type": "markdown",
   "metadata": {
    "id": "-46KSGmazq_R"
   },
   "source": [
    "Observamos como existe un número significativo de nulos en la variable \"Lot Frontage\""
   ]
  },
  {
   "cell_type": "code",
   "execution_count": 21,
   "metadata": {
    "colab": {
     "base_uri": "https://localhost:8080/"
    },
    "id": "9Kr62leIy5GN",
    "outputId": "2ad5da25-335c-4137-88b1-0a5caff9dbc4"
   },
   "outputs": [
    {
     "data": {
      "text/plain": [
       "Order               0\n",
       "MS Zoning           0\n",
       "Lot Frontage      469\n",
       "Lot Area            0\n",
       "Land Contour        0\n",
       "Land Slope          0\n",
       "Overall Qual        0\n",
       "Year Built          0\n",
       "Year Remod/Add      0\n",
       "Mas Vnr Type       16\n",
       "Exter Qual          0\n",
       "Bsmt Cond           0\n",
       "Total Bsmt SF       0\n",
       "Heating QC          0\n",
       "Central Air         0\n",
       "Full Bath           0\n",
       "Half Bath           0\n",
       "Bedroom AbvGr       0\n",
       "Kitchen AbvGr       0\n",
       "Kitchen Qual        0\n",
       "TotRms AbvGrd       0\n",
       "Garage Cars         1\n",
       "Garage Area         1\n",
       "Garage Cond         2\n",
       "Pool Area           0\n",
       "Pool QC             0\n",
       "Mo Sold             0\n",
       "Yr Sold             0\n",
       "SalePrice           0\n",
       "dtype: int64"
      ]
     },
     "execution_count": 21,
     "metadata": {
      "tags": []
     },
     "output_type": "execute_result"
    }
   ],
   "source": [
    "viviendaspd.isna().sum()"
   ]
  },
  {
   "cell_type": "markdown",
   "metadata": {
    "id": "eozIfWVonEHT"
   },
   "source": [
    "## Cuántas viviendas distintas encontramos en el dataset? ¿Se repite alguna? Tiene sentido que haya duplicadas? ¿Qué podemos hacer con las duplicadas?"
   ]
  },
  {
   "cell_type": "markdown",
   "metadata": {
    "id": "oiNDF3FEsZlv"
   },
   "source": [
    "Hemos comprobado como hay un total de 6 observaciones duplicadas."
   ]
  },
  {
   "cell_type": "code",
   "execution_count": 22,
   "metadata": {
    "colab": {
     "base_uri": "https://localhost:8080/"
    },
    "id": "K0SwlIq-zRXN",
    "outputId": "fc0cce26-7d86-4dba-c773-dba8ed95fe61"
   },
   "outputs": [
    {
     "data": {
      "text/plain": [
       "6"
      ]
     },
     "execution_count": 22,
     "metadata": {
      "tags": []
     },
     "output_type": "execute_result"
    }
   ],
   "source": [
    "viviendaspd.duplicated().sum()"
   ]
  },
  {
   "cell_type": "markdown",
   "metadata": {
    "id": "lePfKb3Qm8Mx"
   },
   "source": [
    "Esto puede deberse a que existen casas que se encuentran en la misma urbanización o zona con igual de características."
   ]
  },
  {
   "cell_type": "markdown",
   "metadata": {
    "id": "9knHTQuznEHU"
   },
   "source": [
    "## ¿Podrías decirme el total de inmuebles y el precio medio (Sale Price) de cada zona (MS Zoning)?"
   ]
  },
  {
   "cell_type": "code",
   "execution_count": 23,
   "metadata": {
    "colab": {
     "base_uri": "https://localhost:8080/"
    },
    "id": "-YU40p0yU88N",
    "outputId": "9e622b8e-fe6d-4bf3-e5e9-d9a15d17706a"
   },
   "outputs": [
    {
     "data": {
      "text/plain": [
       "(191131.80581241753, 2271)"
      ]
     },
     "execution_count": 23,
     "metadata": {
      "tags": []
     },
     "output_type": "execute_result"
    }
   ],
   "source": [
    "zona_RL = RL.map(lambda x: (x[28]))\n",
    "zona_RL=zona_RL.filter(lambda x_int: x_int.isdigit())\n",
    "zona_RL=zona_RL.map(lambda x: float(x))\n",
    "\n",
    "zona_RL.mean(), zona_RL.count()"
   ]
  },
  {
   "cell_type": "markdown",
   "metadata": {
    "id": "Ibs4GaXBnWcl"
   },
   "source": [
    "Observamos el número total de viviendas para cada una de las tres zonas."
   ]
  },
  {
   "cell_type": "code",
   "execution_count": 25,
   "metadata": {
    "colab": {
     "base_uri": "https://localhost:8080/"
    },
    "id": "g8bdQ0T9zQYx",
    "outputId": "7282538f-2da1-4294-9fa0-19455943be33"
   },
   "outputs": [
    {
     "data": {
      "text/plain": [
       "MS Zoning\n",
       "RH      27\n",
       "RL    2279\n",
       "RM     462\n",
       "Name: Order, dtype: int64"
      ]
     },
     "execution_count": 25,
     "metadata": {
      "tags": []
     },
     "output_type": "execute_result"
    }
   ],
   "source": [
    "viviendaspd.groupby(\"MS Zoning\").Order.count()"
   ]
  },
  {
   "cell_type": "markdown",
   "metadata": {
    "id": "VGuyf1A4naHn"
   },
   "source": [
    "Observamos el precio medio para cada una de las tres zonas."
   ]
  },
  {
   "cell_type": "code",
   "execution_count": 26,
   "metadata": {
    "colab": {
     "base_uri": "https://localhost:8080/"
    },
    "id": "j2uLDL9c2TD1",
    "outputId": "bfbbbc88-c37d-42f7-a5ac-4060e08288e8"
   },
   "outputs": [
    {
     "data": {
      "text/plain": [
       "MS Zoning\n",
       "RH    136419.777778\n",
       "RL    191412.606845\n",
       "RM    126781.393939\n",
       "Name: SalePrice, dtype: float64"
      ]
     },
     "execution_count": 26,
     "metadata": {
      "tags": []
     },
     "output_type": "execute_result"
    }
   ],
   "source": [
    "viviendaspd.groupby(\"MS Zoning\").SalePrice.mean()"
   ]
  },
  {
   "cell_type": "markdown",
   "metadata": {
    "id": "APBcq9E7nEHU"
   },
   "source": [
    "## Media de Total Bsmt SF por cada década de construcción calculada a partir de Year Built. \n",
    "## ¿Cuál es la decada de construcción con viviendas mejor acondicionadas para el frío (Heating QC)?"
   ]
  },
  {
   "cell_type": "markdown",
   "metadata": {
    "id": "iPOCrz75nd-Z"
   },
   "source": [
    "Definimos función para calcular las décadas."
   ]
  },
  {
   "cell_type": "code",
   "execution_count": 24,
   "metadata": {
    "id": "S6jL93XMnugl"
   },
   "outputs": [],
   "source": [
    "def get_decade(x):\n",
    "    return x[0] + x[1] + x[2] + \"0s\""
   ]
  },
  {
   "cell_type": "code",
   "execution_count": 62,
   "metadata": {
    "colab": {
     "base_uri": "https://localhost:8080/"
    },
    "id": "S0N_NvfoKord",
    "outputId": "36eb922f-f2e1-46e9-f7a1-d93186ce8f88"
   },
   "outputs": [
    {
     "data": {
      "text/plain": [
       "[('1900s', [343871.0]),\n",
       " ('1980s', [1183432.0]),\n",
       " ('1890s', [132274.0]),\n",
       " ('1970s', [3349636.0]),\n",
       " ('1910s', [955525.0]),\n",
       " ('1960s', [4346102.0]),\n",
       " ('1870s', [25092.0]),\n",
       " ('2010s', [18754.0]),\n",
       " ('1920s', [1544611.0]),\n",
       " ('1950s', [3884896.0]),\n",
       " ('1880s', [115197.0]),\n",
       " ('1990s', [3458945.0]),\n",
       " ('1930s', [867047.0]),\n",
       " ('1940s', [1397747.0]),\n",
       " ('2000s', [6934543.0])]"
      ]
     },
     "execution_count": 62,
     "metadata": {
      "tags": []
     },
     "output_type": "execute_result"
    }
   ],
   "source": [
    "decada = viv_fin.map(lambda x: (get_decade(x[7]), [float(x[3])]))\n",
    "decada.reduceByKey(lambda x,y: [x[0]+y[0]]).take(15)"
   ]
  },
  {
   "cell_type": "code",
   "execution_count": 64,
   "metadata": {
    "colab": {
     "base_uri": "https://localhost:8080/"
    },
    "id": "hbJvFTDwKot-",
    "outputId": "a372047e-5c68-4483-87f4-7fd67cf7566e"
   },
   "outputs": [
    {
     "data": {
      "text/plain": [
       "defaultdict(int,\n",
       "            {'1880s': 2,\n",
       "             '1890s': 4,\n",
       "             '1900s': 12,\n",
       "             '1910s': 38,\n",
       "             '1920s': 51,\n",
       "             '1930s': 40,\n",
       "             '1940s': 56,\n",
       "             '1950s': 98,\n",
       "             '1960s': 88,\n",
       "             '1970s': 68,\n",
       "             '1980s': 28,\n",
       "             '1990s': 235,\n",
       "             '2000s': 641,\n",
       "             '2010s': 2})"
      ]
     },
     "execution_count": 64,
     "metadata": {
      "tags": []
     },
     "output_type": "execute_result"
    }
   ],
   "source": [
    "ex = viv_fin.filter(lambda x: (x[13]== \"Ex\"))\n",
    "ex = ex.map(lambda x: (get_decade(x[7]), x[13]))\n",
    "ex.countByKey()"
   ]
  },
  {
   "cell_type": "markdown",
   "metadata": {
    "id": "LwE5Nf53nEHU"
   },
   "source": [
    "## ¿Cuáles son las 10 viviendas que se vendieron por un precio más elevado por metro cuadrado en el año 2009?"
   ]
  },
  {
   "cell_type": "code",
   "execution_count": 65,
   "metadata": {
    "colab": {
     "base_uri": "https://localhost:8080/"
    },
    "id": "O9Dxju_ZnvDV",
    "outputId": "911f9b10-0abf-43f9-cea2-c49c828e86cf"
   },
   "outputs": [
    {
     "data": {
      "text/plain": [
       "[['2009', 1026.7114551323118],\n",
       " ['2009', 991.0320746567418],\n",
       " ['2009', 821.056658770186],\n",
       " ['2009', 807.9610176314369],\n",
       " ['2009', 765.6471992838166],\n",
       " ['2009', 756.0365649831829],\n",
       " ['2009', 717.5940277806482],\n",
       " ['2009', 714.2814183044536],\n",
       " ['2009', 711.1869382468924],\n",
       " ['2009', 701.0704810883306]]"
      ]
     },
     "execution_count": 65,
     "metadata": {
      "tags": []
     },
     "output_type": "execute_result"
    }
   ],
   "source": [
    "año_2009 = viv_fin.filter(lambda x: x[27] == '2009')\n",
    "\n",
    "Casas_Caras = año_2009.map(lambda x: (x[27], [float(x[28]), float(x[3]) * 0.09290304]))\n",
    "\n",
    "Casas_Caras.map(lambda x: [x[0],x[1][0]/x[1][1]]).top(10)"
   ]
  },
  {
   "cell_type": "markdown",
   "metadata": {
    "id": "UMcyDvxMnEHV"
   },
   "source": [
    "## Media anual por zonas del precio de venta y metros cuadrados."
   ]
  },
  {
   "cell_type": "code",
   "execution_count": 66,
   "metadata": {
    "colab": {
     "base_uri": "https://localhost:8080/"
    },
    "id": "jPUOcetRnvb8",
    "outputId": "ab8e4cfd-162a-494a-a72d-4ccf3cbc5492"
   },
   "outputs": [
    {
     "data": {
      "text/plain": [
       "[('2010', [7928.072999999998]),\n",
       " ('2007', [13706.540999999997]),\n",
       " ('2009', [10804.941]),\n",
       " ('2008', [17486.181000000004]),\n",
       " ('2006', [13806.2925])]"
      ]
     },
     "execution_count": 66,
     "metadata": {
      "tags": []
     },
     "output_type": "execute_result"
    }
   ],
   "source": [
    "RM_precio = RM.map(lambda x: (x[27], [float(x[28]) / len(x[28]), 1]))\n",
    "RM_reduced = RM_precio.reduceByKey(lambda x,y: [x[0] + y[0]])\n",
    "RM_metros = RM.map(lambda x: (x[27], [(float(x[3]) * 0.09) / len(x[3])]))\n",
    "RM_metros.reduceByKey(lambda x,y: [x[0] + y[0]]).take(10)"
   ]
  },
  {
   "cell_type": "markdown",
   "metadata": {
    "id": "9U22atqEnEHV"
   },
   "source": [
    "## ¿Podrías decirme el total de recaudación de las casas de revistimiento (Mas Vnr Type) de piedra con respecto a las de ladrillo? ¿Hay diferencia significativa?"
   ]
  },
  {
   "cell_type": "markdown",
   "metadata": {
    "id": "gAzUuQeDoHya"
   },
   "source": [
    "Realizamos filtros para cada uno de los tipos de revistimientos y observamos una clara diferencia de recaudación en aquellas casas que son de ladrillo."
   ]
  },
  {
   "cell_type": "code",
   "execution_count": 68,
   "metadata": {
    "colab": {
     "base_uri": "https://localhost:8080/"
    },
    "id": "cCWsVt6dPJM0",
    "outputId": "fa4b76b5-3ad9-4ef3-cbe3-5387dfbaa2aa"
   },
   "outputs": [
    {
     "data": {
      "text/plain": [
       "(60495477, 498485669)"
      ]
     },
     "execution_count": 68,
     "metadata": {
      "tags": []
     },
     "output_type": "execute_result"
    }
   ],
   "source": [
    "piedra = viv_fin.filter(lambda x: x[9] == 'Stone')\n",
    "ladrillo = viv_fin.filter(lambda x: x[9] == 'BrkFace' or 'BrkCmn')\n",
    "piedra = piedra.map(lambda x: (x[28]))\n",
    "piedra=piedra.filter(lambda x_int: x_int.isdigit())\n",
    "piedra=piedra.map(lambda x: int(x))\n",
    "ladrillo = ladrillo.map(lambda x: (x[28]))\n",
    "ladrillo=ladrillo.filter(lambda x_int: x_int.isdigit())\n",
    "ladrillo=ladrillo.map(lambda x: int(x))\n",
    "piedra.sum(), ladrillo.sum()"
   ]
  },
  {
   "cell_type": "code",
   "execution_count": 69,
   "metadata": {
    "colab": {
     "base_uri": "https://localhost:8080/"
    },
    "id": "kBIUQnVMoRVd",
    "outputId": "fd451bfe-42ab-4099-f604-c53aa3c1d28a"
   },
   "outputs": [
    {
     "data": {
      "text/plain": [
       "-437990192"
      ]
     },
     "execution_count": 69,
     "metadata": {
      "tags": []
     },
     "output_type": "execute_result"
    }
   ],
   "source": [
    "piedra.sum() - ladrillo.sum()"
   ]
  },
  {
   "cell_type": "markdown",
   "metadata": {
    "id": "PkptT5QxoUqf"
   },
   "source": [
    "Observamos una diferencia de recaudación de 437990192 entre ambos tipos.\n"
   ]
  },
  {
   "cell_type": "markdown",
   "metadata": {
    "id": "ZiE2lr6YnEHV"
   },
   "source": [
    "## ¿Cuánto son más caras las viviendas con 2 cocinas, con 2 o más plazas de garaje que las que tienen 1 cocina y 1 plaza de garaje? Comparar medias y cuartiles de ambos casos"
   ]
  },
  {
   "cell_type": "code",
   "execution_count": 71,
   "metadata": {
    "id": "vjcyrZ_Gjey8"
   },
   "outputs": [],
   "source": [
    "dosomas = viv_fin.filter(lambda x: x[18] == '2' and x [21] == '2' or '3' or '4' or '5')\n",
    "dosomas = dosomas.map(lambda x: (x[28]))\n",
    "dosomas=dosomas.filter(lambda x_int: x_int.isdigit())\n",
    "dosomas=dosomas.map(lambda x: int(x))"
   ]
  },
  {
   "cell_type": "code",
   "execution_count": 72,
   "metadata": {
    "id": "LlHv2raNji4X"
   },
   "outputs": [],
   "source": [
    "uno = viv_fin.filter(lambda x: x[18] == '1' and x [21] == '1')\n",
    "uno = uno.map(lambda x: (x[28]))\n",
    "uno=uno.filter(lambda x_int: x_int.isdigit())\n",
    "uno=uno.map(lambda x: int(x))"
   ]
  },
  {
   "cell_type": "code",
   "execution_count": 73,
   "metadata": {
    "colab": {
     "base_uri": "https://localhost:8080/"
    },
    "id": "caabNE0cji6m",
    "outputId": "1c2ba27a-81ba-4bcc-fc89-fcf3fc38ba0d"
   },
   "outputs": [
    {
     "data": {
      "text/plain": [
       "(180088.75325144516, 128121.99337748351)"
      ]
     },
     "execution_count": 73,
     "metadata": {
      "tags": []
     },
     "output_type": "execute_result"
    }
   ],
   "source": [
    "dosomas.mean(), uno.mean()"
   ]
  },
  {
   "cell_type": "code",
   "execution_count": 40,
   "metadata": {
    "colab": {
     "base_uri": "https://localhost:8080/"
    },
    "id": "tgHBbvO8jl5N",
    "outputId": "1a8c33e4-2a9e-42af-e2ac-baba7c3b0812"
   },
   "outputs": [
    {
     "data": {
      "text/plain": [
       "(80213.95568776174, 30283.73797627781)"
      ]
     },
     "execution_count": 40,
     "metadata": {
      "tags": []
     },
     "output_type": "execute_result"
    }
   ],
   "source": [
    "dosomas.stdev(), uno.stdev()"
   ]
  },
  {
   "cell_type": "markdown",
   "metadata": {
    "id": "MenrvgilnEHV"
   },
   "source": [
    "## (COMPLEMENTARIA) Estudiar la relación entre el precio y el número de Garajes. (Recomiendo segmentar precio por cuartiles y estudiar el número de casos coincidentes)"
   ]
  },
  {
   "cell_type": "markdown",
   "metadata": {
    "id": "XWENd8exouLQ"
   },
   "source": [
    "Comprobamos la media de los precios de ventas agrupados por el número de vehículos que entran en el garaje. En nuestro caso observamos un precio mayor medio en aquellas viviendas con disponibilidad de 3 vehículos."
   ]
  },
  {
   "cell_type": "code",
   "execution_count": 61,
   "metadata": {
    "colab": {
     "base_uri": "https://localhost:8080/"
    },
    "id": "xSXLjhzylNW9",
    "outputId": "d5c54b7d-3645-4b57-d06c-97cd3459b476"
   },
   "outputs": [
    {
     "data": {
      "text/plain": [
       "Garage Cars\n",
       "0.0    107023.639456\n",
       "1.0    128011.655759\n",
       "2.0    181890.093180\n",
       "3.0    311831.488827\n",
       "4.0    228748.687500\n",
       "5.0    126500.000000\n",
       "Name: SalePrice, dtype: float64"
      ]
     },
     "execution_count": 61,
     "metadata": {
      "tags": []
     },
     "output_type": "execute_result"
    }
   ],
   "source": [
    "viviendaspd.groupby('Garage Cars')['SalePrice'].mean()"
   ]
  },
  {
   "cell_type": "markdown",
   "metadata": {
    "id": "dXAKFC5lnEHV"
   },
   "source": [
    "## (COMPLEMENTARIA) Las 10 viviendas con mejores servicios y mejor precio."
   ]
  },
  {
   "cell_type": "markdown",
   "metadata": {
    "id": "9Mx-1IL0nEHW"
   },
   "source": [
    "### Pista:\n",
    "#### Calcula las variables: \n",
    "- Número de servicios excelentes\n",
    "- Número de servicios buenos\n",
    "...\n",
    "\n",
    "#### Tendréis que tener en cuenta también variables como número de baños Full Bath, cocinas Kitchen AbvGr o dormitorios Bedroom AbvGr. Generando por ejemplo (número de estas variables por encima de media)\n",
    "\n",
    "#### Finalmente precio de venta"
   ]
  }
 ],
 "metadata": {
  "colab": {
   "name": "examen2021v2.ipynb",
   "provenance": []
  },
  "kernelspec": {
   "display_name": "Python 3",
   "language": "python",
   "name": "python3"
  },
  "language_info": {
   "codemirror_mode": {
    "name": "ipython",
    "version": 3
   },
   "file_extension": ".py",
   "mimetype": "text/x-python",
   "name": "python",
   "nbconvert_exporter": "python",
   "pygments_lexer": "ipython3",
   "version": "3.7.9"
  },
  "toc": {
   "base_numbering": 1,
   "nav_menu": {},
   "number_sections": true,
   "sideBar": true,
   "skip_h1_title": false,
   "title_cell": "Table of Contents",
   "title_sidebar": "Contents",
   "toc_cell": false,
   "toc_position": {},
   "toc_section_display": true,
   "toc_window_display": true
  }
 },
 "nbformat": 4,
 "nbformat_minor": 1
}
